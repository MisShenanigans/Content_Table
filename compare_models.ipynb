{
 "cells": [
  {
   "cell_type": "code",
   "execution_count": 1,
   "metadata": {},
   "outputs": [],
   "source": [
    "import contextlib\n",
    "import io\n",
    "\n",
    "f = io.StringIO()\n",
    "with contextlib.redirect_stdout(f):\n",
    "    import numpy as np\n",
    "    import pandas as pd\n",
    "    import import_ipynb\n",
    "    import baseline_model\n",
    "    import als\n",
    "    import spectral_regularization_model\n",
    "    import nuclear_norm_model\n",
    "    import warnings\n",
    "    warnings.filterwarnings(\"ignore\", category=UserWarning)"
   ]
  },
  {
   "cell_type": "code",
   "execution_count": 2,
   "metadata": {},
   "outputs": [],
   "source": [
    "def calculateRMSE(pred, df):\n",
    "    original = df.pivot(index='u_id', columns='a_id', values='score').fillna(0).values\n",
    "    mask = original > 0\n",
    "    pred = pred[mask]\n",
    "    original = original[mask]\n",
    "    return np.sqrt(np.mean((np.asarray(pred) - np.asarray(original)) ** 2))"
   ]
  },
  {
   "cell_type": "code",
   "execution_count": 3,
   "metadata": {},
   "outputs": [],
   "source": [
    "df_1 = pd.read_csv('data/100x100.csv')\n",
    "df_2 = pd.read_csv('data/100x100_2.csv')"
   ]
  },
  {
   "cell_type": "code",
   "execution_count": 4,
   "metadata": {},
   "outputs": [
    {
     "name": "stdout",
     "output_type": "stream",
     "text": [
      "status: optimal\n"
     ]
    },
    {
     "data": {
      "text/plain": [
       "1.4950463224771797"
      ]
     },
     "execution_count": 4,
     "metadata": {},
     "output_type": "execute_result"
    }
   ],
   "source": [
    "# baseline model lambda = 5, using dataset 1\n",
    "baseline_matrix_1 = baseline_model.baseline_model(5, df_1)\n",
    "calculateRMSE(baseline_matrix_1, df_1)"
   ]
  },
  {
   "cell_type": "code",
   "execution_count": 5,
   "metadata": {},
   "outputs": [
    {
     "name": "stdout",
     "output_type": "stream",
     "text": [
      "status: optimal\n"
     ]
    },
    {
     "data": {
      "text/plain": [
       "1.5656342546196638"
      ]
     },
     "execution_count": 5,
     "metadata": {},
     "output_type": "execute_result"
    }
   ],
   "source": [
    "# baseline model lambda = 5, using dataset 2\n",
    "baseline_matrix_2 = baseline_model.baseline_model(5, df_2)\n",
    "calculateRMSE(baseline_matrix_2, df_2)"
   ]
  },
  {
   "cell_type": "code",
   "execution_count": 6,
   "metadata": {},
   "outputs": [
    {
     "data": {
      "text/plain": [
       "0.01773258575026133"
      ]
     },
     "execution_count": 6,
     "metadata": {},
     "output_type": "execute_result"
    }
   ],
   "source": [
    "# ALS at rank 20, 1000 iterations, using dataset 1\n",
    "X, Y = als.als(df_1, 20, 1000)\n",
    "als_matrix_1 = X @ Y.T\n",
    "calculateRMSE(als_matrix_1, df_1)"
   ]
  },
  {
   "cell_type": "code",
   "execution_count": 7,
   "metadata": {},
   "outputs": [
    {
     "data": {
      "text/plain": [
       "0.021637404731245695"
      ]
     },
     "execution_count": 7,
     "metadata": {},
     "output_type": "execute_result"
    }
   ],
   "source": [
    "# ALS at rank 20, 1000 iterations, using dataset 2\n",
    "X, Y = als.als(df_2, 20, 1000)\n",
    "als_matrix_2 = X @ Y.T\n",
    "calculateRMSE(als_matrix_2, df_2)"
   ]
  },
  {
   "cell_type": "code",
   "execution_count": 8,
   "metadata": {},
   "outputs": [
    {
     "name": "stdout",
     "output_type": "stream",
     "text": [
      "status: optimal\n"
     ]
    },
    {
     "data": {
      "text/plain": [
       "0.7436389012303619"
      ]
     },
     "execution_count": 8,
     "metadata": {},
     "output_type": "execute_result"
    }
   ],
   "source": [
    "# Spectral Regularization Model at lambda 5, using dataset 1\n",
    "spectral_matrix_1 = spectral_regularization_model.spectral_regularization_model(5, df_1)\n",
    "calculateRMSE(spectral_matrix_1, df_1)"
   ]
  },
  {
   "cell_type": "code",
   "execution_count": 9,
   "metadata": {},
   "outputs": [
    {
     "name": "stdout",
     "output_type": "stream",
     "text": [
      "status: optimal\n"
     ]
    },
    {
     "data": {
      "text/plain": [
       "0.9385516001401113"
      ]
     },
     "execution_count": 9,
     "metadata": {},
     "output_type": "execute_result"
    }
   ],
   "source": [
    "# Spectral Regularization Model at lambda 5, using dataset 2\n",
    "spectral_matrix_2 = spectral_regularization_model.spectral_regularization_model(5, df_2)\n",
    "calculateRMSE(spectral_matrix_2, df_2)"
   ]
  },
  {
   "cell_type": "code",
   "execution_count": 10,
   "metadata": {},
   "outputs": [
    {
     "name": "stdout",
     "output_type": "stream",
     "text": [
      "Optimization succeeded.\n"
     ]
    },
    {
     "data": {
      "text/plain": [
       "6.675280732099155e-09"
      ]
     },
     "execution_count": 10,
     "metadata": {},
     "output_type": "execute_result"
    }
   ],
   "source": [
    "# nuclear norm model, using dataset 1\n",
    "nuclear_matrix_1 = nuclear_norm_model.nuclear_norm_model_df(df_1)\n",
    "calculateRMSE(nuclear_matrix_1, df_1)"
   ]
  },
  {
   "cell_type": "code",
   "execution_count": 11,
   "metadata": {},
   "outputs": [
    {
     "name": "stdout",
     "output_type": "stream",
     "text": [
      "Optimization succeeded.\n"
     ]
    },
    {
     "data": {
      "text/plain": [
       "4.374271801530336e-09"
      ]
     },
     "execution_count": 11,
     "metadata": {},
     "output_type": "execute_result"
    }
   ],
   "source": [
    "# nuclear norm model, using dataset 2\n",
    "nuclear_matrix_2 = nuclear_norm_model.nuclear_norm_model_df(df_2)\n",
    "calculateRMSE(nuclear_matrix_2, df_2)"
   ]
  }
 ],
 "metadata": {
  "kernelspec": {
   "display_name": "Python 3",
   "language": "python",
   "name": "python3"
  },
  "language_info": {
   "codemirror_mode": {
    "name": "ipython",
    "version": 3
   },
   "file_extension": ".py",
   "mimetype": "text/x-python",
   "name": "python",
   "nbconvert_exporter": "python",
   "pygments_lexer": "ipython3",
   "version": "3.12.1"
  }
 },
 "nbformat": 4,
 "nbformat_minor": 4
}
