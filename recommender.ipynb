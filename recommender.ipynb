{
 "cells": [
  {
   "cell_type": "code",
   "execution_count": 1,
   "metadata": {},
   "outputs": [],
   "source": [
    "import numpy as np\n",
    "import pandas as pd\n",
    "import import_ipynb\n",
    "import als"
   ]
  },
  {
   "cell_type": "code",
   "execution_count": 2,
   "metadata": {},
   "outputs": [],
   "source": [
    "def recommend_anime(R, \n",
    "                    u_id,\n",
    "                    original_df = pd.read_csv(\"data/100x100.csv\"), \n",
    "                    x=5):\n",
    "    \n",
    "    original_matrix = original_df.pivot(index='u_id', columns='a_id', values='score').fillna(0)\n",
    "    R_df = pd.DataFrame(R, index=original_matrix.index, columns=original_matrix.columns)\n",
    "    \n",
    "    # find the user row of original_matrix\n",
    "    user_row = original_matrix.loc[u_id]\n",
    "    \n",
    "    # get the anime IDs that the user has already watched (ratings > 0)\n",
    "    user_watched = user_row[user_row > 0].index.tolist()\n",
    "    \n",
    "    # get the anime IDs that the user has not watched (ratings == 0)\n",
    "    user_not_watched = user_row[user_row == 0].index.tolist()\n",
    "    \n",
    "    # get predicted ratings for the unwatched anime \n",
    "    user_pred = R_df.loc[u_id, user_not_watched]\n",
    "    # R_df contains the predicted ratings for all users and all anime id, but not anime names\n",
    "    # find top x anime ids with the highest predicted ratings that the user has not watched, and sort them by predicted rating\n",
    "    # then return the anime names and predicted ratings\n",
    "    top_x = user_pred.sort_values(ascending=False).head(x)\n",
    "    anime_ids = top_x.index\n",
    "    # get the anime names from original_df\n",
    "    anime_names = original_df[original_df['a_id'].isin(anime_ids)]['title'].unique()\n",
    "    # create a DataFrame with anime names and predicted ratings\n",
    "    recommendations = pd.DataFrame({\n",
    "        'title': anime_names,\n",
    "        'predicted_rating': top_x.values\n",
    "    })\n",
    "    \n",
    "    return recommendations"
   ]
  },
  {
   "cell_type": "code",
   "execution_count": 3,
   "metadata": {},
   "outputs": [
    {
     "data": {
      "text/html": [
       "<div>\n",
       "<style scoped>\n",
       "    .dataframe tbody tr th:only-of-type {\n",
       "        vertical-align: middle;\n",
       "    }\n",
       "\n",
       "    .dataframe tbody tr th {\n",
       "        vertical-align: top;\n",
       "    }\n",
       "\n",
       "    .dataframe thead th {\n",
       "        text-align: right;\n",
       "    }\n",
       "</style>\n",
       "<table border=\"1\" class=\"dataframe\">\n",
       "  <thead>\n",
       "    <tr style=\"text-align: right;\">\n",
       "      <th></th>\n",
       "      <th>title</th>\n",
       "      <th>predicted_rating</th>\n",
       "    </tr>\n",
       "  </thead>\n",
       "  <tbody>\n",
       "    <tr>\n",
       "      <th>0</th>\n",
       "      <td>Ano Hi Mita Hana no Namae wo Bokutachi wa Mada...</td>\n",
       "      <td>9.311181</td>\n",
       "    </tr>\n",
       "    <tr>\n",
       "      <th>1</th>\n",
       "      <td>Toradora!</td>\n",
       "      <td>8.861783</td>\n",
       "    </tr>\n",
       "    <tr>\n",
       "      <th>2</th>\n",
       "      <td>FLCL</td>\n",
       "      <td>8.805558</td>\n",
       "    </tr>\n",
       "    <tr>\n",
       "      <th>3</th>\n",
       "      <td>Lucky☆Star</td>\n",
       "      <td>8.792845</td>\n",
       "    </tr>\n",
       "    <tr>\n",
       "      <th>4</th>\n",
       "      <td>Nichijou</td>\n",
       "      <td>8.563679</td>\n",
       "    </tr>\n",
       "  </tbody>\n",
       "</table>\n",
       "</div>"
      ],
      "text/plain": [
       "                                               title  predicted_rating\n",
       "0  Ano Hi Mita Hana no Namae wo Bokutachi wa Mada...          9.311181\n",
       "1                                          Toradora!          8.861783\n",
       "2                                               FLCL          8.805558\n",
       "3                                         Lucky☆Star          8.792845\n",
       "4                                           Nichijou          8.563679"
      ]
     },
     "execution_count": 3,
     "metadata": {},
     "output_type": "execute_result"
    }
   ],
   "source": [
    "original_df = pd.read_csv(\"data/100x100.csv\")\n",
    "original_matrix = original_df.pivot(index='u_id', columns='a_id', values='score').fillna(0)\n",
    "X, Y = als.als(original_matrix.values, 20, 100)\n",
    "R = X @ Y.T\n",
    "recommend_anime(R, 966, original_df)"
   ]
  },
  {
   "cell_type": "code",
   "execution_count": null,
   "metadata": {},
   "outputs": [],
   "source": []
  }
 ],
 "metadata": {
  "kernelspec": {
   "display_name": "Python 3",
   "language": "python",
   "name": "python3"
  },
  "language_info": {
   "codemirror_mode": {
    "name": "ipython",
    "version": 3
   },
   "file_extension": ".py",
   "mimetype": "text/x-python",
   "name": "python",
   "nbconvert_exporter": "python",
   "pygments_lexer": "ipython3",
   "version": "3.13.0"
  }
 },
 "nbformat": 4,
 "nbformat_minor": 4
}
