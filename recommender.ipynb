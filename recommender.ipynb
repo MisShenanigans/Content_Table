{
 "cells": [
  {
   "cell_type": "code",
   "execution_count": 5,
   "metadata": {},
   "outputs": [
    {
     "name": "stdout",
     "output_type": "stream",
     "text": [
      "X shape: (98, 20)\n",
      "Y shape: (97, 20)\n",
      "Matrix shape (98, 97)\n",
      "Reconstructed matrix shape (98, 97)\n",
      "min values for 10, 100, and 1000 iterations\n",
      "-4.503779663879647\n",
      "-0.20542168432411986\n",
      "-0.4981605184747932\n",
      "<------------------>\n",
      "max values for 10, 100, and 1000 iterations\n",
      "13.89144967384726\n",
      "12.462630826054921\n",
      "11.807310308930694\n"
     ]
    }
   ],
   "source": [
    "import numpy as np\n",
    "import pandas as pd\n",
    "import import_ipynb\n",
    "import als"
   ]
  },
  {
   "cell_type": "code",
   "execution_count": null,
   "metadata": {},
   "outputs": [],
   "source": [
    "def recommend_anime(pred, \n",
    "                    u_id,\n",
    "                    original_df = pd.read_csv(\"data/100x100.csv\"), \n",
    "                    x=5):\n",
    "    \n",
    "    original_matrix = original_df.pivot(index='u_id', columns='a_id', values='score').fillna(0)\n",
    "    pred_df = pd.DataFrame(pred, index=original_matrix.index, columns=original_matrix.columns)\n",
    "    # find the user row of original_matrix\n",
    "    user_row = original_matrix.loc[u_id]\n",
    "    \n",
    "    # get the anime IDs that the user has already watched (ratings > 0)\n",
    "    user_watched = user_row[user_row > 0].index.tolist()\n",
    "    \n",
    "    # get the anime IDs that the user has not watched (ratings == 0)\n",
    "    user_not_watched = user_row[user_row == 0].index.tolist()\n",
    "    \n",
    "    # pred_df contains the predicted ratings for all users and all anime id, but not anime names\n",
    "    # find top x anime ids with the highest predicted ratings that tht user has not watched, and sort them by predicted rating\n",
    "    # then return the anime names and predicted ratings\n",
    "    top_x_ids = user_pred.sort_values(ascending=False).head(x).index\n",
    "    \n",
    "    # Get anime names\n",
    "    recommendations = anime_df[anime_df['a_id'].isin(top_x_ids)][['name', 'a_id']]\n",
    "    recommendations = recommendations.set_index('a_id').loc[top_x_ids].reset_index()\n",
    "    recommendations['predicted_rating'] = user_pred[top_x_ids].values\n",
    "    \n",
    "    return recommendations[['name', 'predicted_rating']]"
   ]
  },
  {
   "cell_type": "code",
   "execution_count": 19,
   "metadata": {},
   "outputs": [
    {
     "ename": "IndexError",
     "evalue": "index 966 is out of bounds for axis 0 with size 98",
     "output_type": "error",
     "traceback": [
      "\u001b[0;31m---------------------------------------------------------------------------\u001b[0m",
      "\u001b[0;31mIndexError\u001b[0m                                Traceback (most recent call last)",
      "Cell \u001b[0;32mIn[19], line 6\u001b[0m\n\u001b[1;32m      4\u001b[0m pred \u001b[38;5;241m=\u001b[39m X \u001b[38;5;241m@\u001b[39m Y\u001b[38;5;241m.\u001b[39mT\n\u001b[1;32m      5\u001b[0m original_matrix\u001b[38;5;241m.\u001b[39mshape\n\u001b[0;32m----> 6\u001b[0m \u001b[43mrecommend_anime\u001b[49m\u001b[43m(\u001b[49m\u001b[43mpred\u001b[49m\u001b[43m,\u001b[49m\u001b[43m \u001b[49m\u001b[38;5;241;43m966\u001b[39;49m\u001b[43m,\u001b[49m\u001b[43m \u001b[49m\u001b[43moriginal_df\u001b[49m\u001b[43m)\u001b[49m\n",
      "Cell \u001b[0;32mIn[18], line 8\u001b[0m, in \u001b[0;36mrecommend_anime\u001b[0;34m(pred, u_id, original_df, x)\u001b[0m\n\u001b[1;32m      6\u001b[0m pred_df \u001b[38;5;241m=\u001b[39m pd\u001b[38;5;241m.\u001b[39mDataFrame(pred, index\u001b[38;5;241m=\u001b[39moriginal_matrix\u001b[38;5;241m.\u001b[39mindex, columns\u001b[38;5;241m=\u001b[39moriginal_matrix\u001b[38;5;241m.\u001b[39mcolumns)\n\u001b[1;32m      7\u001b[0m \u001b[38;5;66;03m# find the user row\u001b[39;00m\n\u001b[0;32m----> 8\u001b[0m user_row \u001b[38;5;241m=\u001b[39m \u001b[43moriginal_matrix\u001b[49m\u001b[38;5;241;43m.\u001b[39;49m\u001b[43mindex\u001b[49m\u001b[43m[\u001b[49m\u001b[43mu_id\u001b[49m\u001b[43m]\u001b[49m\n",
      "File \u001b[0;32m/Library/Frameworks/Python.framework/Versions/3.12/lib/python3.12/site-packages/pandas/core/indexes/base.py:5366\u001b[0m, in \u001b[0;36mIndex.__getitem__\u001b[0;34m(self, key)\u001b[0m\n\u001b[1;32m   5363\u001b[0m \u001b[38;5;28;01mif\u001b[39;00m is_integer(key) \u001b[38;5;129;01mor\u001b[39;00m is_float(key):\n\u001b[1;32m   5364\u001b[0m     \u001b[38;5;66;03m# GH#44051 exclude bool, which would return a 2d ndarray\u001b[39;00m\n\u001b[1;32m   5365\u001b[0m     key \u001b[38;5;241m=\u001b[39m com\u001b[38;5;241m.\u001b[39mcast_scalar_indexer(key)\n\u001b[0;32m-> 5366\u001b[0m     \u001b[38;5;28;01mreturn\u001b[39;00m \u001b[43mgetitem\u001b[49m\u001b[43m(\u001b[49m\u001b[43mkey\u001b[49m\u001b[43m)\u001b[49m\n\u001b[1;32m   5368\u001b[0m \u001b[38;5;28;01mif\u001b[39;00m \u001b[38;5;28misinstance\u001b[39m(key, \u001b[38;5;28mslice\u001b[39m):\n\u001b[1;32m   5369\u001b[0m     \u001b[38;5;66;03m# This case is separated from the conditional above to avoid\u001b[39;00m\n\u001b[1;32m   5370\u001b[0m     \u001b[38;5;66;03m# pessimization com.is_bool_indexer and ndim checks.\u001b[39;00m\n\u001b[1;32m   5371\u001b[0m     \u001b[38;5;28;01mreturn\u001b[39;00m \u001b[38;5;28mself\u001b[39m\u001b[38;5;241m.\u001b[39m_getitem_slice(key)\n",
      "\u001b[0;31mIndexError\u001b[0m: index 966 is out of bounds for axis 0 with size 98"
     ]
    }
   ],
   "source": [
    "original_df = pd.read_csv(\"data/100x100.csv\")\n",
    "original_matrix = original_df.pivot(index='u_id', columns='a_id', values='score').fillna(0)\n",
    "X, Y = als.als(original_matrix.values, 20, 100)\n",
    "pred = X @ Y.T\n",
    "original_matrix.shape\n",
    "recommend_anime(pred, 966, original_df)"
   ]
  },
  {
   "cell_type": "code",
   "execution_count": null,
   "metadata": {},
   "outputs": [],
   "source": []
  }
 ],
 "metadata": {
  "kernelspec": {
   "display_name": "Python 3",
   "language": "python",
   "name": "python3"
  },
  "language_info": {
   "codemirror_mode": {
    "name": "ipython",
    "version": 3
   },
   "file_extension": ".py",
   "mimetype": "text/x-python",
   "name": "python",
   "nbconvert_exporter": "python",
   "pygments_lexer": "ipython3",
   "version": "3.12.1"
  }
 },
 "nbformat": 4,
 "nbformat_minor": 2
}
