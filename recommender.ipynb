{
 "cells": [
  {
   "cell_type": "code",
   "execution_count": 17,
   "metadata": {},
   "outputs": [],
   "source": [
    "import numpy as np\n",
    "import pandas as pd\n",
    "import import_ipynb\n",
    "import als"
   ]
  },
  {
   "cell_type": "code",
   "execution_count": 18,
   "metadata": {},
   "outputs": [],
   "source": [
    "def recommend_anime(R, \n",
    "                    u_id,\n",
    "                    original_df = pd.read_csv(\"data/100x100.csv\"), \n",
    "                    x=5):\n",
    "    \n",
    "    original_matrix = original_df.pivot(index='u_id', columns='a_id', values='score').fillna(0)\n",
    "    R_df = pd.DataFrame(R, index=original_matrix.index, columns=original_matrix.columns)\n",
    "    \n",
    "    # find the user row of original_matrix\n",
    "    user_row = original_matrix.loc[u_id]\n",
    "    \n",
    "    # get the anime IDs that the user has already watched (ratings > 0)\n",
    "    user_watched = user_row[user_row > 0].index.tolist()\n",
    "    \n",
    "    # get the anime IDs that the user has not watched (ratings == 0)\n",
    "    user_not_watched = user_row[user_row == 0].index.tolist()\n",
    "    \n",
    "    # get predicted ratings for the unwatched anime \n",
    "    user_pred = R_df.loc[u_id, user_not_watched]\n",
    "    # R_df contains the predicted ratings for all users and all anime id, but not anime names\n",
    "    # find top x anime ids with the highest predicted ratings that the user has not watched, and sort them by predicted rating\n",
    "    # then return the anime names and predicted ratings\n",
    "    top_x = user_pred.sort_values(ascending=False).head(x)\n",
    "    anime_ids = top_x.index\n",
    "    # get the anime names from original_df\n",
    "    anime_names = original_df[original_df['a_id'].isin(anime_ids)]['title'].unique()\n",
    "    # create a DataFrame with anime names and predicted ratings\n",
    "    recommendations = pd.DataFrame({\n",
    "        'title': anime_names,\n",
    "        'predicted_rating': top_x.values\n",
    "    })\n",
    "    \n",
    "    return recommendations"
   ]
  },
  {
   "cell_type": "code",
   "execution_count": 19,
   "metadata": {},
   "outputs": [
    {
     "ename": "AttributeError",
     "evalue": "module 'als' has no attribute 'als'",
     "output_type": "error",
     "traceback": [
      "\u001b[0;31m---------------------------------------------------------------------------\u001b[0m",
      "\u001b[0;31mAttributeError\u001b[0m                            Traceback (most recent call last)",
      "Cell \u001b[0;32mIn[19], line 3\u001b[0m\n\u001b[1;32m      1\u001b[0m original_df \u001b[38;5;241m=\u001b[39m pd\u001b[38;5;241m.\u001b[39mread_csv(\u001b[38;5;124m\"\u001b[39m\u001b[38;5;124mdata/100x100.csv\u001b[39m\u001b[38;5;124m\"\u001b[39m)\n\u001b[1;32m      2\u001b[0m original_matrix \u001b[38;5;241m=\u001b[39m original_df\u001b[38;5;241m.\u001b[39mpivot(index\u001b[38;5;241m=\u001b[39m\u001b[38;5;124m'\u001b[39m\u001b[38;5;124mu_id\u001b[39m\u001b[38;5;124m'\u001b[39m, columns\u001b[38;5;241m=\u001b[39m\u001b[38;5;124m'\u001b[39m\u001b[38;5;124ma_id\u001b[39m\u001b[38;5;124m'\u001b[39m, values\u001b[38;5;241m=\u001b[39m\u001b[38;5;124m'\u001b[39m\u001b[38;5;124mscore\u001b[39m\u001b[38;5;124m'\u001b[39m)\u001b[38;5;241m.\u001b[39mfillna(\u001b[38;5;241m0\u001b[39m)\n\u001b[0;32m----> 3\u001b[0m X, Y \u001b[38;5;241m=\u001b[39m \u001b[43mals\u001b[49m\u001b[38;5;241;43m.\u001b[39;49m\u001b[43mals\u001b[49m(original_matrix\u001b[38;5;241m.\u001b[39mvalues, \u001b[38;5;241m20\u001b[39m, \u001b[38;5;241m100\u001b[39m)\n\u001b[1;32m      4\u001b[0m R \u001b[38;5;241m=\u001b[39m X \u001b[38;5;241m@\u001b[39m Y\u001b[38;5;241m.\u001b[39mT\n\u001b[1;32m      5\u001b[0m recommend_anime(R, \u001b[38;5;241m966\u001b[39m, original_df)\n",
      "\u001b[0;31mAttributeError\u001b[0m: module 'als' has no attribute 'als'"
     ]
    }
   ],
   "source": [
    "original_df = pd.read_csv(\"data/100x100.csv\")\n",
    "original_matrix = original_df.pivot(index='u_id', columns='a_id', values='score').fillna(0)\n",
    "X, Y = als.als(original_matrix.values, 20, 100)\n",
    "R = X @ Y.T\n",
    "recommend_anime(R, 966, original_df)"
   ]
  },
  {
   "cell_type": "code",
   "execution_count": null,
   "metadata": {},
   "outputs": [],
   "source": []
  }
 ],
 "metadata": {
  "kernelspec": {
   "display_name": "Python 3 (ipykernel)",
   "language": "python",
   "name": "python3"
  },
  "language_info": {
   "codemirror_mode": {
    "name": "ipython",
    "version": 3
   },
   "file_extension": ".py",
   "mimetype": "text/x-python",
   "name": "python",
   "nbconvert_exporter": "python",
   "pygments_lexer": "ipython3",
   "version": "3.13.0"
  }
 },
 "nbformat": 4,
 "nbformat_minor": 4
}
