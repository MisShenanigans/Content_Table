{
 "cells": [
  {
   "cell_type": "code",
   "execution_count": 5,
   "metadata": {},
   "outputs": [
    {
     "name": "stdout",
     "output_type": "stream",
     "text": [
      "X shape: (98, 20)\n",
      "Y shape: (97, 20)\n",
      "Matrix shape (98, 97)\n",
      "Reconstructed matrix shape (98, 97)\n",
      "min values for 10, 100, and 1000 iterations\n",
      "-4.503779663879647\n",
      "-0.20542168432411986\n",
      "-0.4981605184747932\n",
      "<------------------>\n",
      "max values for 10, 100, and 1000 iterations\n",
      "13.89144967384726\n",
      "12.462630826054921\n",
      "11.807310308930694\n"
     ]
    }
   ],
   "source": [
    "import numpy as np\n",
    "import pandas as pd\n",
    "import import_ipynb\n",
    "import als"
   ]
  },
  {
   "cell_type": "code",
   "execution_count": null,
   "metadata": {},
   "outputs": [],
   "source": [
    "def recommend_anime(pred, \n",
    "                    u_id,\n",
    "                    original_df = pd.read_csv(\"data/100x100.csv\"), \n",
    "                    x=5):\n",
    "    \n",
    "    original_matrix = original_df.pivot(index='u_id', columns='a_id', values='score').fillna(0)\n",
    "    pred_df = pd.DataFrame(pred, index=original_matrix.index, columns=original_matrix.columns)\n",
    "    \n",
    "    # find the user row of original_matrix\n",
    "    user_row = original_matrix.loc[u_id]\n",
    "    \n",
    "    # get the anime IDs that the user has already watched (ratings > 0)\n",
    "    user_watched = user_row[user_row > 0].index.tolist()\n",
    "    \n",
    "    # get the anime IDs that the user has not watched (ratings == 0)\n",
    "    user_not_watched = user_row[user_row == 0].index.tolist()\n",
    "    \n",
    "    # get predicted ratings for the unwatched anime \n",
    "    user_pred = pred_df.loc[u_id, user_not_watched]\n",
    "    # pred_df contains the predicted ratings for all users and all anime id, but not anime names\n",
    "    # find top x anime ids with the highest predicted ratings that the user has not watched, and sort them by predicted rating\n",
    "    # then return the anime names and predicted ratings\n",
    "    top_x = user_pred.sort_values(ascending=False).head(x)\n",
    "    anime_ids = top_x.index\n",
    "    # get the anime names from original_df\n",
    "    anime_names = original_df[original_df['a_id'].isin(anime_ids)]['title'].unique()\n",
    "    # create a DataFrame with anime names and predicted ratings\n",
    "    recommendations = pd.DataFrame({\n",
    "        'title': anime_names,\n",
    "        'predicted_rating': top_x.values\n",
    "    })\n",
    "    \n",
    "    return recommendations"
   ]
  },
  {
   "cell_type": "code",
   "execution_count": 25,
   "metadata": {},
   "outputs": [
    {
     "data": {
      "text/html": [
       "<div>\n",
       "<style scoped>\n",
       "    .dataframe tbody tr th:only-of-type {\n",
       "        vertical-align: middle;\n",
       "    }\n",
       "\n",
       "    .dataframe tbody tr th {\n",
       "        vertical-align: top;\n",
       "    }\n",
       "\n",
       "    .dataframe thead th {\n",
       "        text-align: right;\n",
       "    }\n",
       "</style>\n",
       "<table border=\"1\" class=\"dataframe\">\n",
       "  <thead>\n",
       "    <tr style=\"text-align: right;\">\n",
       "      <th></th>\n",
       "      <th>title</th>\n",
       "      <th>predicted_rating</th>\n",
       "    </tr>\n",
       "  </thead>\n",
       "  <tbody>\n",
       "    <tr>\n",
       "      <th>0</th>\n",
       "      <td>Ano Hi Mita Hana no Namae wo Bokutachi wa Mada...</td>\n",
       "      <td>9.790605</td>\n",
       "    </tr>\n",
       "    <tr>\n",
       "      <th>1</th>\n",
       "      <td>Mahou Shoujo Madoka★Magica</td>\n",
       "      <td>9.302723</td>\n",
       "    </tr>\n",
       "    <tr>\n",
       "      <th>2</th>\n",
       "      <td>Kobayashi-san Chi no Maid Dragon</td>\n",
       "      <td>9.093955</td>\n",
       "    </tr>\n",
       "    <tr>\n",
       "      <th>3</th>\n",
       "      <td>Bakemonogatari</td>\n",
       "      <td>9.093267</td>\n",
       "    </tr>\n",
       "    <tr>\n",
       "      <th>4</th>\n",
       "      <td>Nichijou</td>\n",
       "      <td>8.749456</td>\n",
       "    </tr>\n",
       "  </tbody>\n",
       "</table>\n",
       "</div>"
      ],
      "text/plain": [
       "                                               title  predicted_rating\n",
       "0  Ano Hi Mita Hana no Namae wo Bokutachi wa Mada...          9.790605\n",
       "1                         Mahou Shoujo Madoka★Magica          9.302723\n",
       "2                   Kobayashi-san Chi no Maid Dragon          9.093955\n",
       "3                                     Bakemonogatari          9.093267\n",
       "4                                           Nichijou          8.749456"
      ]
     },
     "execution_count": 25,
     "metadata": {},
     "output_type": "execute_result"
    }
   ],
   "source": [
    "original_df = pd.read_csv(\"data/100x100.csv\")\n",
    "original_matrix = original_df.pivot(index='u_id', columns='a_id', values='score').fillna(0)\n",
    "X, Y = als.als(original_matrix.values, 20, 100)\n",
    "pred = X @ Y.T\n",
    "original_matrix.shape\n",
    "recommend_anime(pred, 966, original_df)"
   ]
  },
  {
   "cell_type": "code",
   "execution_count": null,
   "metadata": {},
   "outputs": [],
   "source": []
  }
 ],
 "metadata": {
  "kernelspec": {
   "display_name": "Python 3",
   "language": "python",
   "name": "python3"
  },
  "language_info": {
   "codemirror_mode": {
    "name": "ipython",
    "version": 3
   },
   "file_extension": ".py",
   "mimetype": "text/x-python",
   "name": "python",
   "nbconvert_exporter": "python",
   "pygments_lexer": "ipython3",
   "version": "3.12.1"
  }
 },
 "nbformat": 4,
 "nbformat_minor": 2
}
