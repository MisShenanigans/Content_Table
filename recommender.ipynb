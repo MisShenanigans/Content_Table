{
 "cells": [
  {
   "cell_type": "code",
   "execution_count": 1,
   "metadata": {},
   "outputs": [],
   "source": [
    "import contextlib\n",
    "import io\n",
    "\n",
    "f = io.StringIO()\n",
    "with contextlib.redirect_stdout(f):\n",
    "    import numpy as np\n",
    "    import pandas as pd\n",
    "    import import_ipynb\n",
    "    import baseline_model\n",
    "    import als\n",
    "    import spectral_regularization_model\n",
    "    import nuclear_norm_model\n",
    "    import warnings\n",
    "    warnings.filterwarnings(\"ignore\", category=UserWarning)"
   ]
  },
  {
   "cell_type": "code",
   "execution_count": 2,
   "metadata": {},
   "outputs": [],
   "source": [
    "def recommend_anime(R, \n",
    "                    u_id,\n",
    "                    df, \n",
    "                    x=5):\n",
    "    \n",
    "    original_matrix = df.pivot(index='u_id', columns='a_id', values='score').fillna(0)\n",
    "    R_df = pd.DataFrame(R, index=original_matrix.index, columns=original_matrix.columns)\n",
    "    \n",
    "    # find the user row of original_matrix\n",
    "    user_row = original_matrix.loc[u_id]\n",
    "    \n",
    "    # get the anime IDs that the user has already watched (ratings > 0)\n",
    "    user_watched = user_row[user_row > 0].index.tolist()\n",
    "    \n",
    "    # get the anime IDs that the user has not watched (ratings == 0)\n",
    "    user_not_watched = user_row[user_row == 0].index.tolist()\n",
    "    \n",
    "    # get predicted ratings for the unwatched anime \n",
    "    user_pred = R_df.loc[u_id, user_not_watched]\n",
    "    # R_df contains the predicted ratings for all users and all anime id, but not anime names\n",
    "    # find top x anime ids with the highest predicted ratings that the user has not watched, and sort them by predicted rating\n",
    "    # then return the anime names and predicted ratings\n",
    "    top_x = user_pred.sort_values(ascending=False).head(x)\n",
    "    anime_ids = top_x.index\n",
    "    # get the anime names from original_df\n",
    "    anime_names = df[df['a_id'].isin(anime_ids)]['title'].unique()\n",
    "    # create a DataFrame with anime names and predicted ratings\n",
    "    recommendations = pd.DataFrame({\n",
    "        'title': anime_names,\n",
    "        'predicted_rating': top_x.values\n",
    "    })\n",
    "    \n",
    "    return recommendations"
   ]
  },
  {
   "cell_type": "code",
   "execution_count": 3,
   "metadata": {},
   "outputs": [
    {
     "name": "stdout",
     "output_type": "stream",
     "text": [
      "Chosen user 1: 966\n",
      "Chosen user 2: 966\n"
     ]
    }
   ],
   "source": [
    "# read all the datasets\n",
    "df_1 = pd.read_csv(\"data/100x100.csv\")\n",
    "df_2 = pd.read_csv(\"data/100x100_2.csv\")\n",
    "\n",
    "# choose a random user\n",
    "# chosen_user_1 = np.random.choice(df_1['u_id'].unique(), 1)[0]\n",
    "# chosen_user_2 = np.random.choice(df_2['u_id'].unique(), 1)[0]\n",
    "\n",
    "# choose a static user\n",
    "chosen_user_1 = 966\n",
    "chosen_user_2 = 966\n",
    "\n",
    "print(f\"Chosen user 1: {chosen_user_1}\")\n",
    "print(f\"Chosen user 2: {chosen_user_2}\")"
   ]
  },
  {
   "cell_type": "code",
   "execution_count": 4,
   "metadata": {},
   "outputs": [
    {
     "name": "stdout",
     "output_type": "stream",
     "text": [
      "status: optimal\n"
     ]
    },
    {
     "data": {
      "text/html": [
       "<div>\n",
       "<style scoped>\n",
       "    .dataframe tbody tr th:only-of-type {\n",
       "        vertical-align: middle;\n",
       "    }\n",
       "\n",
       "    .dataframe tbody tr th {\n",
       "        vertical-align: top;\n",
       "    }\n",
       "\n",
       "    .dataframe thead th {\n",
       "        text-align: right;\n",
       "    }\n",
       "</style>\n",
       "<table border=\"1\" class=\"dataframe\">\n",
       "  <thead>\n",
       "    <tr style=\"text-align: right;\">\n",
       "      <th></th>\n",
       "      <th>title</th>\n",
       "      <th>predicted_rating</th>\n",
       "    </tr>\n",
       "  </thead>\n",
       "  <tbody>\n",
       "    <tr>\n",
       "      <th>0</th>\n",
       "      <td>Monster</td>\n",
       "      <td>8.435279</td>\n",
       "    </tr>\n",
       "    <tr>\n",
       "      <th>1</th>\n",
       "      <td>Steins;Gate</td>\n",
       "      <td>8.411371</td>\n",
       "    </tr>\n",
       "    <tr>\n",
       "      <th>2</th>\n",
       "      <td>Fullmetal Alchemist: Brotherhood</td>\n",
       "      <td>8.118812</td>\n",
       "    </tr>\n",
       "    <tr>\n",
       "      <th>3</th>\n",
       "      <td>Yojouhan Shinwa Taikei</td>\n",
       "      <td>8.068790</td>\n",
       "    </tr>\n",
       "    <tr>\n",
       "      <th>4</th>\n",
       "      <td>Ginga Eiyuu Densetsu</td>\n",
       "      <td>8.061904</td>\n",
       "    </tr>\n",
       "  </tbody>\n",
       "</table>\n",
       "</div>"
      ],
      "text/plain": [
       "                              title  predicted_rating\n",
       "0                           Monster          8.435279\n",
       "1                       Steins;Gate          8.411371\n",
       "2  Fullmetal Alchemist: Brotherhood          8.118812\n",
       "3            Yojouhan Shinwa Taikei          8.068790\n",
       "4              Ginga Eiyuu Densetsu          8.061904"
      ]
     },
     "execution_count": 4,
     "metadata": {},
     "output_type": "execute_result"
    }
   ],
   "source": [
    "# baseline model lambda = 5, using dataset 1\n",
    "baseline_matrix_1 = baseline_model.baseline_model(5, df_1)\n",
    "recommend_anime(baseline_matrix_1, chosen_user_1, df_1)"
   ]
  },
  {
   "cell_type": "code",
   "execution_count": 5,
   "metadata": {},
   "outputs": [
    {
     "name": "stdout",
     "output_type": "stream",
     "text": [
      "status: optimal\n"
     ]
    },
    {
     "data": {
      "text/html": [
       "<div>\n",
       "<style scoped>\n",
       "    .dataframe tbody tr th:only-of-type {\n",
       "        vertical-align: middle;\n",
       "    }\n",
       "\n",
       "    .dataframe tbody tr th {\n",
       "        vertical-align: top;\n",
       "    }\n",
       "\n",
       "    .dataframe thead th {\n",
       "        text-align: right;\n",
       "    }\n",
       "</style>\n",
       "<table border=\"1\" class=\"dataframe\">\n",
       "  <thead>\n",
       "    <tr style=\"text-align: right;\">\n",
       "      <th></th>\n",
       "      <th>title</th>\n",
       "      <th>predicted_rating</th>\n",
       "    </tr>\n",
       "  </thead>\n",
       "  <tbody>\n",
       "    <tr>\n",
       "      <th>0</th>\n",
       "      <td>Gekkan Shoujo Nozaki-kun</td>\n",
       "      <td>8.816964</td>\n",
       "    </tr>\n",
       "    <tr>\n",
       "      <th>1</th>\n",
       "      <td>Tenkuu no Shiro Laputa</td>\n",
       "      <td>8.562032</td>\n",
       "    </tr>\n",
       "    <tr>\n",
       "      <th>2</th>\n",
       "      <td>Ping Pong the Animation</td>\n",
       "      <td>8.413421</td>\n",
       "    </tr>\n",
       "    <tr>\n",
       "      <th>3</th>\n",
       "      <td>Perfect Blue</td>\n",
       "      <td>8.363466</td>\n",
       "    </tr>\n",
       "    <tr>\n",
       "      <th>4</th>\n",
       "      <td>Sennen Joyuu</td>\n",
       "      <td>8.352636</td>\n",
       "    </tr>\n",
       "  </tbody>\n",
       "</table>\n",
       "</div>"
      ],
      "text/plain": [
       "                      title  predicted_rating\n",
       "0  Gekkan Shoujo Nozaki-kun          8.816964\n",
       "1    Tenkuu no Shiro Laputa          8.562032\n",
       "2   Ping Pong the Animation          8.413421\n",
       "3              Perfect Blue          8.363466\n",
       "4              Sennen Joyuu          8.352636"
      ]
     },
     "execution_count": 5,
     "metadata": {},
     "output_type": "execute_result"
    }
   ],
   "source": [
    "# baseline model lambda = 5, using dataset 2\n",
    "baseline_matrix_2 = baseline_model.baseline_model(5, df_2)\n",
    "recommend_anime(baseline_matrix_2, chosen_user_2, df_2)"
   ]
  },
  {
   "cell_type": "code",
   "execution_count": 6,
   "metadata": {},
   "outputs": [
    {
     "data": {
      "text/html": [
       "<div>\n",
       "<style scoped>\n",
       "    .dataframe tbody tr th:only-of-type {\n",
       "        vertical-align: middle;\n",
       "    }\n",
       "\n",
       "    .dataframe tbody tr th {\n",
       "        vertical-align: top;\n",
       "    }\n",
       "\n",
       "    .dataframe thead th {\n",
       "        text-align: right;\n",
       "    }\n",
       "</style>\n",
       "<table border=\"1\" class=\"dataframe\">\n",
       "  <thead>\n",
       "    <tr style=\"text-align: right;\">\n",
       "      <th></th>\n",
       "      <th>title</th>\n",
       "      <th>predicted_rating</th>\n",
       "    </tr>\n",
       "  </thead>\n",
       "  <tbody>\n",
       "    <tr>\n",
       "      <th>0</th>\n",
       "      <td>Clannad: After Story</td>\n",
       "      <td>9.495420</td>\n",
       "    </tr>\n",
       "    <tr>\n",
       "      <th>1</th>\n",
       "      <td>Toradora!</td>\n",
       "      <td>9.288772</td>\n",
       "    </tr>\n",
       "    <tr>\n",
       "      <th>2</th>\n",
       "      <td>Azumanga Daioh</td>\n",
       "      <td>9.114554</td>\n",
       "    </tr>\n",
       "    <tr>\n",
       "      <th>3</th>\n",
       "      <td>Psycho-Pass</td>\n",
       "      <td>8.812352</td>\n",
       "    </tr>\n",
       "    <tr>\n",
       "      <th>4</th>\n",
       "      <td>Nichijou</td>\n",
       "      <td>8.744406</td>\n",
       "    </tr>\n",
       "  </tbody>\n",
       "</table>\n",
       "</div>"
      ],
      "text/plain": [
       "                  title  predicted_rating\n",
       "0  Clannad: After Story          9.495420\n",
       "1             Toradora!          9.288772\n",
       "2        Azumanga Daioh          9.114554\n",
       "3           Psycho-Pass          8.812352\n",
       "4              Nichijou          8.744406"
      ]
     },
     "execution_count": 6,
     "metadata": {},
     "output_type": "execute_result"
    }
   ],
   "source": [
    "# ALS at rank 20, 1000 iterations, using dataset 1\n",
    "X, Y = als.als(df_1, 20, 1000)\n",
    "als_matrix_1 = X @ Y.T\n",
    "recommend_anime(als_matrix_1, chosen_user_1, df_1)"
   ]
  },
  {
   "cell_type": "code",
   "execution_count": 7,
   "metadata": {},
   "outputs": [
    {
     "data": {
      "text/html": [
       "<div>\n",
       "<style scoped>\n",
       "    .dataframe tbody tr th:only-of-type {\n",
       "        vertical-align: middle;\n",
       "    }\n",
       "\n",
       "    .dataframe tbody tr th {\n",
       "        vertical-align: top;\n",
       "    }\n",
       "\n",
       "    .dataframe thead th {\n",
       "        text-align: right;\n",
       "    }\n",
       "</style>\n",
       "<table border=\"1\" class=\"dataframe\">\n",
       "  <thead>\n",
       "    <tr style=\"text-align: right;\">\n",
       "      <th></th>\n",
       "      <th>title</th>\n",
       "      <th>predicted_rating</th>\n",
       "    </tr>\n",
       "  </thead>\n",
       "  <tbody>\n",
       "    <tr>\n",
       "      <th>0</th>\n",
       "      <td>Gekkan Shoujo Nozaki-kun</td>\n",
       "      <td>8.760389</td>\n",
       "    </tr>\n",
       "    <tr>\n",
       "      <th>1</th>\n",
       "      <td>Fate/stay night: Unlimited Blade Works 2nd Season</td>\n",
       "      <td>8.665100</td>\n",
       "    </tr>\n",
       "    <tr>\n",
       "      <th>2</th>\n",
       "      <td>Sakura Quest</td>\n",
       "      <td>8.527271</td>\n",
       "    </tr>\n",
       "    <tr>\n",
       "      <th>3</th>\n",
       "      <td>Mob Psycho 100 II</td>\n",
       "      <td>8.479505</td>\n",
       "    </tr>\n",
       "    <tr>\n",
       "      <th>4</th>\n",
       "      <td>Asobi Asobase</td>\n",
       "      <td>8.259562</td>\n",
       "    </tr>\n",
       "  </tbody>\n",
       "</table>\n",
       "</div>"
      ],
      "text/plain": [
       "                                               title  predicted_rating\n",
       "0                           Gekkan Shoujo Nozaki-kun          8.760389\n",
       "1  Fate/stay night: Unlimited Blade Works 2nd Season          8.665100\n",
       "2                                       Sakura Quest          8.527271\n",
       "3                                  Mob Psycho 100 II          8.479505\n",
       "4                                      Asobi Asobase          8.259562"
      ]
     },
     "execution_count": 7,
     "metadata": {},
     "output_type": "execute_result"
    }
   ],
   "source": [
    "# ALS at rank 20, 1000 iterations, using dataset 2\n",
    "X, Y = als.als(df_2, 20, 1000)\n",
    "als_matrix_2 = X @ Y.T\n",
    "recommend_anime(als_matrix_2, chosen_user_2, df_2)"
   ]
  },
  {
   "cell_type": "code",
   "execution_count": 8,
   "metadata": {},
   "outputs": [
    {
     "name": "stdout",
     "output_type": "stream",
     "text": [
      "status: optimal\n"
     ]
    },
    {
     "data": {
      "text/html": [
       "<div>\n",
       "<style scoped>\n",
       "    .dataframe tbody tr th:only-of-type {\n",
       "        vertical-align: middle;\n",
       "    }\n",
       "\n",
       "    .dataframe tbody tr th {\n",
       "        vertical-align: top;\n",
       "    }\n",
       "\n",
       "    .dataframe thead th {\n",
       "        text-align: right;\n",
       "    }\n",
       "</style>\n",
       "<table border=\"1\" class=\"dataframe\">\n",
       "  <thead>\n",
       "    <tr style=\"text-align: right;\">\n",
       "      <th></th>\n",
       "      <th>title</th>\n",
       "      <th>predicted_rating</th>\n",
       "    </tr>\n",
       "  </thead>\n",
       "  <tbody>\n",
       "    <tr>\n",
       "      <th>0</th>\n",
       "      <td>Monster</td>\n",
       "      <td>8.005141</td>\n",
       "    </tr>\n",
       "    <tr>\n",
       "      <th>1</th>\n",
       "      <td>Ouran Koukou Host Club</td>\n",
       "      <td>7.994429</td>\n",
       "    </tr>\n",
       "    <tr>\n",
       "      <th>2</th>\n",
       "      <td>Azumanga Daioh</td>\n",
       "      <td>7.977646</td>\n",
       "    </tr>\n",
       "    <tr>\n",
       "      <th>3</th>\n",
       "      <td>Psycho-Pass</td>\n",
       "      <td>7.965450</td>\n",
       "    </tr>\n",
       "    <tr>\n",
       "      <th>4</th>\n",
       "      <td>Higurashi no Naku Koro ni</td>\n",
       "      <td>7.942880</td>\n",
       "    </tr>\n",
       "  </tbody>\n",
       "</table>\n",
       "</div>"
      ],
      "text/plain": [
       "                       title  predicted_rating\n",
       "0                    Monster          8.005141\n",
       "1     Ouran Koukou Host Club          7.994429\n",
       "2             Azumanga Daioh          7.977646\n",
       "3                Psycho-Pass          7.965450\n",
       "4  Higurashi no Naku Koro ni          7.942880"
      ]
     },
     "execution_count": 8,
     "metadata": {},
     "output_type": "execute_result"
    }
   ],
   "source": [
    "# Spectral Regularization Model at lambda 5, using dataset 1\n",
    "spectral_matrix_1 = spectral_regularization_model.spectral_regularization_model(5, df_1)\n",
    "recommend_anime(spectral_matrix_1, chosen_user_1, df_1)"
   ]
  },
  {
   "cell_type": "code",
   "execution_count": 9,
   "metadata": {},
   "outputs": [
    {
     "name": "stdout",
     "output_type": "stream",
     "text": [
      "status: optimal\n"
     ]
    },
    {
     "data": {
      "text/html": [
       "<div>\n",
       "<style scoped>\n",
       "    .dataframe tbody tr th:only-of-type {\n",
       "        vertical-align: middle;\n",
       "    }\n",
       "\n",
       "    .dataframe tbody tr th {\n",
       "        vertical-align: top;\n",
       "    }\n",
       "\n",
       "    .dataframe thead th {\n",
       "        text-align: right;\n",
       "    }\n",
       "</style>\n",
       "<table border=\"1\" class=\"dataframe\">\n",
       "  <thead>\n",
       "    <tr style=\"text-align: right;\">\n",
       "      <th></th>\n",
       "      <th>title</th>\n",
       "      <th>predicted_rating</th>\n",
       "    </tr>\n",
       "  </thead>\n",
       "  <tbody>\n",
       "    <tr>\n",
       "      <th>0</th>\n",
       "      <td>Gekkan Shoujo Nozaki-kun</td>\n",
       "      <td>8.259591</td>\n",
       "    </tr>\n",
       "    <tr>\n",
       "      <th>1</th>\n",
       "      <td>Tenkuu no Shiro Laputa</td>\n",
       "      <td>8.178825</td>\n",
       "    </tr>\n",
       "    <tr>\n",
       "      <th>2</th>\n",
       "      <td>Perfect Blue</td>\n",
       "      <td>8.113580</td>\n",
       "    </tr>\n",
       "    <tr>\n",
       "      <th>3</th>\n",
       "      <td>Seto no Hanayome</td>\n",
       "      <td>8.047835</td>\n",
       "    </tr>\n",
       "    <tr>\n",
       "      <th>4</th>\n",
       "      <td>Asobi Asobase</td>\n",
       "      <td>8.030796</td>\n",
       "    </tr>\n",
       "  </tbody>\n",
       "</table>\n",
       "</div>"
      ],
      "text/plain": [
       "                      title  predicted_rating\n",
       "0  Gekkan Shoujo Nozaki-kun          8.259591\n",
       "1    Tenkuu no Shiro Laputa          8.178825\n",
       "2              Perfect Blue          8.113580\n",
       "3          Seto no Hanayome          8.047835\n",
       "4             Asobi Asobase          8.030796"
      ]
     },
     "execution_count": 9,
     "metadata": {},
     "output_type": "execute_result"
    }
   ],
   "source": [
    "# Spectral Regularization Model at lambda 5, using dataset 2\n",
    "spectral_matrix_2 = spectral_regularization_model.spectral_regularization_model(5, df_2)\n",
    "recommend_anime(spectral_matrix_2, chosen_user_2, df_2)"
   ]
  },
  {
   "cell_type": "code",
   "execution_count": 10,
   "metadata": {},
   "outputs": [
    {
     "name": "stdout",
     "output_type": "stream",
     "text": [
      "Optimization succeeded.\n"
     ]
    },
    {
     "data": {
      "text/html": [
       "<div>\n",
       "<style scoped>\n",
       "    .dataframe tbody tr th:only-of-type {\n",
       "        vertical-align: middle;\n",
       "    }\n",
       "\n",
       "    .dataframe tbody tr th {\n",
       "        vertical-align: top;\n",
       "    }\n",
       "\n",
       "    .dataframe thead th {\n",
       "        text-align: right;\n",
       "    }\n",
       "</style>\n",
       "<table border=\"1\" class=\"dataframe\">\n",
       "  <thead>\n",
       "    <tr style=\"text-align: right;\">\n",
       "      <th></th>\n",
       "      <th>title</th>\n",
       "      <th>predicted_rating</th>\n",
       "    </tr>\n",
       "  </thead>\n",
       "  <tbody>\n",
       "    <tr>\n",
       "      <th>0</th>\n",
       "      <td>Clannad: After Story</td>\n",
       "      <td>9.208856</td>\n",
       "    </tr>\n",
       "    <tr>\n",
       "      <th>1</th>\n",
       "      <td>Ookami Kodomo no Ame to Yuki</td>\n",
       "      <td>9.038716</td>\n",
       "    </tr>\n",
       "    <tr>\n",
       "      <th>2</th>\n",
       "      <td>Azumanga Daioh</td>\n",
       "      <td>8.990107</td>\n",
       "    </tr>\n",
       "    <tr>\n",
       "      <th>3</th>\n",
       "      <td>Psycho-Pass</td>\n",
       "      <td>8.780612</td>\n",
       "    </tr>\n",
       "    <tr>\n",
       "      <th>4</th>\n",
       "      <td>Nichijou</td>\n",
       "      <td>8.421423</td>\n",
       "    </tr>\n",
       "  </tbody>\n",
       "</table>\n",
       "</div>"
      ],
      "text/plain": [
       "                          title  predicted_rating\n",
       "0          Clannad: After Story          9.208856\n",
       "1  Ookami Kodomo no Ame to Yuki          9.038716\n",
       "2                Azumanga Daioh          8.990107\n",
       "3                   Psycho-Pass          8.780612\n",
       "4                      Nichijou          8.421423"
      ]
     },
     "execution_count": 10,
     "metadata": {},
     "output_type": "execute_result"
    }
   ],
   "source": [
    "# nuclear norm model, using dataset 1\n",
    "nuclear_matrix_1 = nuclear_norm_model.nuclear_norm_model_df(df_1)\n",
    "recommend_anime(nuclear_matrix_1, chosen_user_1, df_1)"
   ]
  },
  {
   "cell_type": "code",
   "execution_count": 11,
   "metadata": {},
   "outputs": [
    {
     "name": "stdout",
     "output_type": "stream",
     "text": [
      "Optimization succeeded.\n"
     ]
    },
    {
     "data": {
      "text/html": [
       "<div>\n",
       "<style scoped>\n",
       "    .dataframe tbody tr th:only-of-type {\n",
       "        vertical-align: middle;\n",
       "    }\n",
       "\n",
       "    .dataframe tbody tr th {\n",
       "        vertical-align: top;\n",
       "    }\n",
       "\n",
       "    .dataframe thead th {\n",
       "        text-align: right;\n",
       "    }\n",
       "</style>\n",
       "<table border=\"1\" class=\"dataframe\">\n",
       "  <thead>\n",
       "    <tr style=\"text-align: right;\">\n",
       "      <th></th>\n",
       "      <th>title</th>\n",
       "      <th>predicted_rating</th>\n",
       "    </tr>\n",
       "  </thead>\n",
       "  <tbody>\n",
       "    <tr>\n",
       "      <th>0</th>\n",
       "      <td>Gekkan Shoujo Nozaki-kun</td>\n",
       "      <td>8.969728</td>\n",
       "    </tr>\n",
       "    <tr>\n",
       "      <th>1</th>\n",
       "      <td>Yuri!!! on Ice</td>\n",
       "      <td>8.940827</td>\n",
       "    </tr>\n",
       "    <tr>\n",
       "      <th>2</th>\n",
       "      <td>Sakura Quest</td>\n",
       "      <td>8.543998</td>\n",
       "    </tr>\n",
       "    <tr>\n",
       "      <th>3</th>\n",
       "      <td>Mob Psycho 100 II</td>\n",
       "      <td>8.517210</td>\n",
       "    </tr>\n",
       "    <tr>\n",
       "      <th>4</th>\n",
       "      <td>Asobi Asobase</td>\n",
       "      <td>8.290307</td>\n",
       "    </tr>\n",
       "  </tbody>\n",
       "</table>\n",
       "</div>"
      ],
      "text/plain": [
       "                      title  predicted_rating\n",
       "0  Gekkan Shoujo Nozaki-kun          8.969728\n",
       "1            Yuri!!! on Ice          8.940827\n",
       "2              Sakura Quest          8.543998\n",
       "3         Mob Psycho 100 II          8.517210\n",
       "4             Asobi Asobase          8.290307"
      ]
     },
     "execution_count": 11,
     "metadata": {},
     "output_type": "execute_result"
    }
   ],
   "source": [
    "# nuclear norm model, using dataset 2\n",
    "nuclear_matrix_2 = nuclear_norm_model.nuclear_norm_model_df(df_2)\n",
    "recommend_anime(nuclear_matrix_2, chosen_user_2, df_2)"
   ]
  }
 ],
 "metadata": {
  "kernelspec": {
   "display_name": "Python 3",
   "language": "python",
   "name": "python3"
  },
  "language_info": {
   "codemirror_mode": {
    "name": "ipython",
    "version": 3
   },
   "file_extension": ".py",
   "mimetype": "text/x-python",
   "name": "python",
   "nbconvert_exporter": "python",
   "pygments_lexer": "ipython3",
   "version": "3.13.0"
  }
 },
 "nbformat": 4,
 "nbformat_minor": 4
}
