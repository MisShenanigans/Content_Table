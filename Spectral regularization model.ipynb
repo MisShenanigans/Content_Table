{
 "cells": [
  {
   "cell_type": "code",
   "execution_count": 1,
   "metadata": {},
   "outputs": [],
   "source": [
    "import pandas as pd\n",
    "import numpy as np\n",
    "import cvxpy as cp\n",
    "import matplotlib.pyplot as plt"
   ]
  },
  {
   "cell_type": "code",
   "execution_count": 3,
   "metadata": {},
   "outputs": [
    {
     "name": "stdout",
     "output_type": "stream",
     "text": [
      "(7162, 1590)\n"
     ]
    }
   ],
   "source": [
    "df = pd.read_csv(\"data/final_data.csv\")\n",
    "data_matrix = df.pivot(index='u_id', columns='a_id', values='score').fillna(0)\n",
    "print(data_matrix.shape)\n"
   ]
  },
  {
   "cell_type": "code",
   "execution_count": 4,
   "metadata": {},
   "outputs": [
    {
     "data": {
      "text/html": [
       "<div>\n",
       "<style scoped>\n",
       "    .dataframe tbody tr th:only-of-type {\n",
       "        vertical-align: middle;\n",
       "    }\n",
       "\n",
       "    .dataframe tbody tr th {\n",
       "        vertical-align: top;\n",
       "    }\n",
       "\n",
       "    .dataframe thead th {\n",
       "        text-align: right;\n",
       "    }\n",
       "</style>\n",
       "<table border=\"1\" class=\"dataframe\">\n",
       "  <thead>\n",
       "    <tr style=\"text-align: right;\">\n",
       "      <th></th>\n",
       "      <th>u_id</th>\n",
       "      <th>a_id</th>\n",
       "      <th>score</th>\n",
       "    </tr>\n",
       "  </thead>\n",
       "  <tbody>\n",
       "    <tr>\n",
       "      <th>0</th>\n",
       "      <td>0</td>\n",
       "      <td>12403</td>\n",
       "      <td>6</td>\n",
       "    </tr>\n",
       "    <tr>\n",
       "      <th>1</th>\n",
       "      <td>104</td>\n",
       "      <td>12403</td>\n",
       "      <td>9</td>\n",
       "    </tr>\n",
       "    <tr>\n",
       "      <th>2</th>\n",
       "      <td>109</td>\n",
       "      <td>12403</td>\n",
       "      <td>8</td>\n",
       "    </tr>\n",
       "    <tr>\n",
       "      <th>3</th>\n",
       "      <td>460</td>\n",
       "      <td>12403</td>\n",
       "      <td>7</td>\n",
       "    </tr>\n",
       "    <tr>\n",
       "      <th>4</th>\n",
       "      <td>1336</td>\n",
       "      <td>12403</td>\n",
       "      <td>10</td>\n",
       "    </tr>\n",
       "    <tr>\n",
       "      <th>...</th>\n",
       "      <td>...</td>\n",
       "      <td>...</td>\n",
       "      <td>...</td>\n",
       "    </tr>\n",
       "    <tr>\n",
       "      <th>59149</th>\n",
       "      <td>15121</td>\n",
       "      <td>3230</td>\n",
       "      <td>8</td>\n",
       "    </tr>\n",
       "    <tr>\n",
       "      <th>59150</th>\n",
       "      <td>15698</td>\n",
       "      <td>3230</td>\n",
       "      <td>8</td>\n",
       "    </tr>\n",
       "    <tr>\n",
       "      <th>59151</th>\n",
       "      <td>22915</td>\n",
       "      <td>3230</td>\n",
       "      <td>7</td>\n",
       "    </tr>\n",
       "    <tr>\n",
       "      <th>59152</th>\n",
       "      <td>24855</td>\n",
       "      <td>3230</td>\n",
       "      <td>6</td>\n",
       "    </tr>\n",
       "    <tr>\n",
       "      <th>59153</th>\n",
       "      <td>35762</td>\n",
       "      <td>3230</td>\n",
       "      <td>7</td>\n",
       "    </tr>\n",
       "  </tbody>\n",
       "</table>\n",
       "<p>59154 rows × 3 columns</p>\n",
       "</div>"
      ],
      "text/plain": [
       "        u_id   a_id  score\n",
       "0          0  12403      6\n",
       "1        104  12403      9\n",
       "2        109  12403      8\n",
       "3        460  12403      7\n",
       "4       1336  12403     10\n",
       "...      ...    ...    ...\n",
       "59149  15121   3230      8\n",
       "59150  15698   3230      8\n",
       "59151  22915   3230      7\n",
       "59152  24855   3230      6\n",
       "59153  35762   3230      7\n",
       "\n",
       "[59154 rows x 3 columns]"
      ]
     },
     "execution_count": 4,
     "metadata": {},
     "output_type": "execute_result"
    }
   ],
   "source": [
    "delta=df[['u_id', 'a_id', 'score']]\n",
    "delta"
   ]
  },
  {
   "cell_type": "code",
   "execution_count": 5,
   "metadata": {},
   "outputs": [
    {
     "ename": "KeyError",
     "evalue": "5",
     "output_type": "error",
     "traceback": [
      "\u001b[0;31m---------------------------------------------------------------------------\u001b[0m",
      "\u001b[0;31mKeyError\u001b[0m                                  Traceback (most recent call last)",
      "Cell \u001b[0;32mIn[5], line 6\u001b[0m\n\u001b[1;32m      3\u001b[0m     u_id \u001b[38;5;241m=\u001b[39m data_matrix\u001b[38;5;241m.\u001b[39mindex[idx]\n\u001b[1;32m      4\u001b[0m     user_id_to_index[u_id] \u001b[38;5;241m=\u001b[39m idx\n\u001b[0;32m----> 6\u001b[0m \u001b[43muser_id_to_index\u001b[49m\u001b[43m[\u001b[49m\u001b[38;5;241;43m5\u001b[39;49m\u001b[43m]\u001b[49m\n",
      "\u001b[0;31mKeyError\u001b[0m: 5"
     ]
    }
   ],
   "source": [
    "user_id_to_index = {} #helper function\n",
    "for idx in range(len(data_matrix.index)):\n",
    "    u_id = data_matrix.index[idx]\n",
    "    user_id_to_index[u_id] = idx\n",
    "    \n",
    "user_id_to_index[5]"
   ]
  },
  {
   "cell_type": "code",
   "execution_count": 6,
   "metadata": {},
   "outputs": [
    {
     "data": {
      "text/plain": [
       "1413"
      ]
     },
     "execution_count": 6,
     "metadata": {},
     "output_type": "execute_result"
    }
   ],
   "source": [
    "anime_id_to_index = {} #helper function\n",
    "for idx in range(len(data_matrix.columns)):\n",
    "    a_id = data_matrix.columns[idx]\n",
    "    anime_id_to_index[a_id] = idx\n",
    "\n",
    "anime_id_to_index[35760]"
   ]
  },
  {
   "cell_type": "code",
   "execution_count": 8,
   "metadata": {},
   "outputs": [
    {
     "data": {
      "text/plain": [
       "1000"
      ]
     },
     "execution_count": 8,
     "metadata": {},
     "output_type": "execute_result"
    }
   ],
   "source": [
    "user_id_to_index[1892]"
   ]
  },
  {
   "cell_type": "code",
   "execution_count": null,
   "metadata": {},
   "outputs": [],
   "source": [
    "def spectral_regularization_model(x):\n",
    "\n",
    "    delta = df[['u_id', 'a_id', 'score']] #set of all known ratings\n",
    "    num_users = data_matrix.shape[0]\n",
    "    num_anime = data_matrix.shape[1]\n",
    "\n",
    "    R=cp.Variable(shape=(num_users,num_anime)) #predicted rating matrix\n",
    "    \n",
    "\n",
    "    training_error=[]\n",
    "    for ui in range(len(delta)):\n",
    "        u=user_id_to_index[int(delta.at[ui,'u_id'])]\n",
    "        i=anime_id_to_index[int(delta.at[ui,'a_id'])]\n",
    "        training_error.append((R[u][i]-int(delta.at[ui,'score']))**2) #(R_ui-A_ui)^2\n",
    "\n",
    "    training_error_sum=cp.sum(training_error) #sum((R_ui-A_ui)^2)\n",
    "\n",
    "\n",
    "    obj=cp.Minimize(0.5*training_error_sum+ x*cp.norm(R,\"nuc\"))\n",
    "    prob=cp.Problem(obj)\n",
    "    prob.solve()\n",
    "\n",
    "    print(\"status:\", prob.status)\n",
    "    if prob.status == cp.OPTIMAL:\n",
    "        print(\"The predicted matrix is \", R.value) \n",
    "\n",
    "\n",
    "\n"
   ]
  },
  {
   "cell_type": "code",
   "execution_count": null,
   "metadata": {},
   "outputs": [
    {
     "name": "stderr",
     "output_type": "stream",
     "text": [
      "C:\\Users\\pakch\\AppData\\Local\\Packages\\PythonSoftwareFoundation.Python.3.11_qbz5n2kfra8p0\\LocalCache\\local-packages\\Python311\\site-packages\\cvxpy\\problems\\problem.py:158: UserWarning: Objective contains too many subexpressions. Consider vectorizing your CVXPY code to speed up compilation.\n",
      "  warnings.warn(\"Objective contains too many subexpressions. \"\n"
     ]
    }
   ],
   "source": [
    "spectral_regularization_model(10000)\n"
   ]
  }
 ],
 "metadata": {
  "kernelspec": {
   "display_name": "Python 3 (ipykernel)",
   "language": "python",
   "name": "python3"
  },
  "language_info": {
   "codemirror_mode": {
    "name": "ipython",
    "version": 3
   },
   "file_extension": ".py",
   "mimetype": "text/x-python",
   "name": "python",
   "nbconvert_exporter": "python",
   "pygments_lexer": "ipython3",
   "version": "3.13.0"
  }
 },
 "nbformat": 4,
 "nbformat_minor": 4
}
