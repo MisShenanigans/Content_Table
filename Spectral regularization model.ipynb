{
 "cells": [
  {
   "cell_type": "code",
   "execution_count": 2,
   "metadata": {},
   "outputs": [],
   "source": [
    "import pandas as pd\n",
    "import numpy as np\n",
    "import cvxpy as cp\n",
    "import matplotlib.pyplot as plt"
   ]
  },
  {
   "cell_type": "code",
   "execution_count": 12,
   "metadata": {},
   "outputs": [],
   "source": [
    "df = pd.read_csv(\"data/100x100.csv\")\n",
    "df_2 = pd.read_csv(\"data/100x100_2.csv\")\n"
   ]
  },
  {
   "cell_type": "code",
   "execution_count": null,
   "metadata": {},
   "outputs": [],
   "source": [
    "def spectral_regularization_model(x,df):\n",
    "    data_matrix = df.pivot(index='u_id', columns='a_id', values='score').fillna(0)\n",
    "    delta = df[['u_id', 'a_id', 'score']] #set of all known ratings\n",
    "    num_users = data_matrix.shape[0]\n",
    "    num_anime = data_matrix.shape[1]\n",
    "\n",
    "    R=cp.Variable(shape=(num_users,num_anime)) #predicted rating matrix\n",
    "    \n",
    "    user_id_to_index = {} #helper function\n",
    "    for idx in range(len(data_matrix.index)):\n",
    "        u_id = data_matrix.index[idx]\n",
    "        user_id_to_index[u_id] = idx\n",
    "    \n",
    "    anime_id_to_index = {} #helper function\n",
    "    for idx in range(len(data_matrix.columns)):\n",
    "        a_id = data_matrix.columns[idx]\n",
    "        anime_id_to_index[a_id] = idx\n",
    "\n",
    "    training_error=[]\n",
    "    for ui in range(len(delta)):\n",
    "        u=user_id_to_index[int(delta.at[ui,'u_id'])]\n",
    "        i=anime_id_to_index[int(delta.at[ui,'a_id'])]\n",
    "        training_error.append((R[u][i]-int(delta.at[ui,'score']))**2) #(R_ui-A_ui)^2\n",
    "\n",
    "    training_error_sum=cp.sum(training_error) #sum((R_ui-A_ui)^2)\n",
    "\n",
    "\n",
    "    obj=cp.Minimize(0.5*training_error_sum+ x*cp.norm(R,\"nuc\"))\n",
    "    prob=cp.Problem(obj)\n",
    "    prob.solve()\n",
    "\n",
    "    print(\"status:\", prob.status)\n",
    "    if prob.status == cp.OPTIMAL:\n",
    "        print(\"The predicted matrix is \", R.value) \n",
    "    \n",
    "    return np.matrix(R.value)\n",
    "\n",
    "\n",
    "\n",
    "\n",
    "    \n",
    "\n"
   ]
  },
  {
   "cell_type": "code",
   "execution_count": 35,
   "metadata": {},
   "outputs": [
    {
     "name": "stdout",
     "output_type": "stream",
     "text": [
      "status: optimal\n",
      "The predicted matrix is  [[5.71857821 6.82050028 6.71242977 ... 5.55329474 6.02466116 5.26576902]\n",
      " [7.55421696 8.78681574 8.25059731 ... 6.66562812 7.0994061  6.890764  ]\n",
      " [8.02570425 9.17688937 8.40898644 ... 6.73118548 7.21093343 7.29996729]\n",
      " ...\n",
      " [6.54580626 7.84823034 7.77063422 ... 6.436666   6.97117337 6.02930679]\n",
      " [5.11801093 6.14928334 6.16650267 ... 5.15510351 5.69213442 4.73357743]\n",
      " [3.70289773 4.72577794 5.22470298 ... 4.57400514 5.16260543 3.52573554]]\n"
     ]
    },
    {
     "data": {
      "text/plain": [
       "numpy.matrix"
      ]
     },
     "execution_count": 35,
     "metadata": {},
     "output_type": "execute_result"
    }
   ],
   "source": [
    "R=spectral_regularization_model(10,df_2)\n",
    "type(R)"
   ]
  },
  {
   "cell_type": "code",
   "execution_count": 34,
   "metadata": {},
   "outputs": [],
   "source": [
    "def RMSE(R,df):\n",
    "    data_matrix = df.pivot(index='u_id', columns='a_id', values='score').fillna(0)\n",
    "    delta = df[['u_id', 'a_id', 'score']]\n",
    "    N=len(delta)\n",
    "\n",
    "    user_id_to_index = {} #helper function\n",
    "    for idx in range(len(data_matrix.index)):\n",
    "        u_id = data_matrix.index[idx]\n",
    "        user_id_to_index[u_id] = idx\n",
    "    \n",
    "    anime_id_to_index = {} #helper function\n",
    "    for idx in range(len(data_matrix.columns)):\n",
    "        a_id = data_matrix.columns[idx]\n",
    "        anime_id_to_index[a_id] = idx\n",
    "\n",
    "    LSE=[]\n",
    "    for ui in range(len(delta)):\n",
    "            u = user_id_to_index[int(delta.at[ui,'u_id'])]\n",
    "            i = anime_id_to_index[int(delta.at[ui,'a_id'])]\n",
    "            LSE.append((R[u,i]-int(delta.at[ui,'score']))**2)\n",
    "    RMSE=np.sqrt(np.sum(LSE)/N)\n",
    "\n",
    "    return RMSE"
   ]
  },
  {
   "cell_type": "code",
   "execution_count": null,
   "metadata": {},
   "outputs": [
    {
     "data": {
      "text/plain": [
       "np.float64(1.307188529413347)"
      ]
     },
     "execution_count": 33,
     "metadata": {},
     "output_type": "execute_result"
    }
   ],
   "source": [
    "RMSE(R,df) #RMSE spectral_regularization_model df 1"
   ]
  },
  {
   "cell_type": "code",
   "execution_count": 36,
   "metadata": {},
   "outputs": [
    {
     "data": {
      "text/plain": [
       "np.float64(1.6065010288742316)"
      ]
     },
     "execution_count": 36,
     "metadata": {},
     "output_type": "execute_result"
    }
   ],
   "source": [
    "RMSE(R,df_2) #RMSE spectral_regularization_model df 2"
   ]
  }
 ],
 "metadata": {
  "kernelspec": {
   "display_name": "Python 3",
   "language": "python",
   "name": "python3"
  },
  "language_info": {
   "codemirror_mode": {
    "name": "ipython",
    "version": 3
   },
   "file_extension": ".py",
   "mimetype": "text/x-python",
   "name": "python",
   "nbconvert_exporter": "python",
   "pygments_lexer": "ipython3",
   "version": "3.11.9"
  }
 },
 "nbformat": 4,
 "nbformat_minor": 2
}
