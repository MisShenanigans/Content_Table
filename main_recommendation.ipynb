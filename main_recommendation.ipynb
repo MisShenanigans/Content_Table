{
 "cells": [
  {
   "cell_type": "code",
   "execution_count": 1,
   "id": "00a89920-40ac-4316-807f-071ee3002305",
   "metadata": {},
   "outputs": [],
   "source": [
    "import pandas as pd\n",
    "import numpy as np\n",
    "import matplotlib.pyplot as plt\n",
    "import concurrent.futures\n",
    "import cvxpy as cp\n",
    "import import_ipynb\n",
    "\n",
    "from content_table_recommendater import load_data, als, baseline_model, nuclear_norm_model_df, spectral_regularization_model, recommend_anime, RMSE"
   ]
  },
  {
   "cell_type": "markdown",
   "id": "cf7cbd8a-f70f-44e6-91da-5042b8f17bc9",
   "metadata": {},
   "source": [
    "## 0. Helper Functions and set-ups\n",
    "\n",
    "- this includes data loading and index helplers that finds the user and animation id and their indices"
   ]
  },
  {
   "cell_type": "code",
   "execution_count": 8,
   "id": "d18c1d28-c712-4f77-9fc7-5b2f661295f5",
   "metadata": {},
   "outputs": [],
   "source": [
    "df, pivot = load_data(\"data/100x100.csv\")\n",
    "data_df = pivot\n",
    "delta=df[['u_id', 'a_id', 'score']]\n",
    "\n",
    "user_id_index_map = {u_id: idx for idx, u_id in enumerate(data_df.index)}\n",
    "anime_id_index_map = {a_id: idx for idx, a_id in enumerate(data_df.columns)}\n",
    "\n",
    "def user_id_to_index(uid):\n",
    "    return user_id_index_map.get(uid, -1)  # returns -1 if uid not found\n",
    "\n",
    "def anime_id_to_index(aid):\n",
    "    return anime_id_index_map.get(aid, -1) # returns -1 if aid not found"
   ]
  },
  {
   "cell_type": "markdown",
   "id": "7507f4c3-66a0-4dcc-a63e-981c73b36dab",
   "metadata": {},
   "source": [
    "## 1. Baseline Model\n",
    "\n",
    "The Baseline Model aims to predict missing entries in the matrix by accounting for deviations in user and item behaviors. Specifically, it models the predicted rating as a combination of:\n",
    "\n",
    "- the global average rating,\n",
    "- the individual user bias, and\n",
    "- the individual item bias.\n",
    "\n",
    "We express the **objective function** as:\n",
    "\n",
    "$$\n",
    "\\min_{R \\in \\mathbb{R}^{m \\times n}} \\sum_{(u,i) \\in \\Delta} (R_{ui} - A_{ui})^2 + \\lambda_1 \\left( \\sum_{u \\in U} (b_u)^2 + \\sum_{i \\in I} (b_i)^2 \\right)\n",
    "$$\n",
    "\n",
    "Where:\n",
    "\n",
    "- $\\Delta$ is the index set of observed entries  \n",
    "- $U$ is the set of all users $\\{u_1, u_2, \\ldots, u_m\\}$  \n",
    "- $I$ is the set of all animes $\\{i_1, i_2, \\ldots, i_n\\}$  \n",
    "- $A \\in \\mathbb{R}^{m \\times n}$ is the incomplete rating matrix, where $A_{ui}$ is user $u$'s actual rating of anime $i$  \n",
    "- $R \\in \\mathbb{R}^{m \\times n}$ is the completed rating matrix, where $R_{ui}$ is user $u$'s predicted rating of anime $i$  \n",
    "- $b_u$ is the deviation of user $u$'s rating from the average  \n",
    "- $b_i$ is the deviation of anime $i$'s rating from the average  \n",
    "- $\\lambda_1$ is the regularization parameter\n",
    "\n",
    "Optionally, we can express the predicted rating as:\n",
    "\n",
    "\\[\n",
    "R_{ui} = \\mu + b_u + b_i\n",
    "\\]\n",
    "\n",
    "Where $\\mu$ is the mean of all known ratings.\n",
    "\n",
    "---\n",
    "\n",
    "In summary, the first term of the objective function minimizes the squared error between the observed ratings $A_{ui}$ and the predicted ratings $R_{ui}$. The second term penalizes the sum of squared biases of users and items to avoid overfitting. The regularization parameter $\\lambda_1 > 0$ discourages excessively large bias terms.\n"
   ]
  },
  {
   "cell_type": "code",
   "execution_count": 3,
   "id": "2575cf8d-6596-4d99-8291-295bacfec631",
   "metadata": {},
   "outputs": [
    {
     "name": "stderr",
     "output_type": "stream",
     "text": [
      "/Library/Frameworks/Python.framework/Versions/3.13/lib/python3.13/site-packages/cvxpy/problems/problem.py:158: UserWarning: Objective contains too many subexpressions. Consider vectorizing your CVXPY code to speed up compilation.\n",
      "  warnings.warn(\"Objective contains too many subexpressions. \"\n"
     ]
    },
    {
     "name": "stdout",
     "output_type": "stream",
     "text": [
      "    a_id  predicted_rating                          title\n",
      "0     33          9.091289           Kenpuu Denki Berserk\n",
      "1     19          8.949335                        Monster\n",
      "2  11741          8.633195           Fate/Zero 2nd Season\n",
      "3    199          8.617139  Sen to Chihiro no Kamikakushi\n",
      "4    323          8.495727                Mousou Dairinin\n"
     ]
    }
   ],
   "source": [
    "df, pivot = load_data(\"data/100x100.csv\")\n",
    "\n",
    "# R_baseline = baseline_model(10000, df)\n",
    "R_baseline = baseline_model(df, regularization=1.0)\n",
    "\n",
    "recommendations = recommend_anime(R_baseline, u_id=31, original_df=df, x=5)\n",
    "print(recommendations)"
   ]
  },
  {
   "cell_type": "markdown",
   "id": "ecb871ac-9503-4df8-b6d2-e604ad22ae9c",
   "metadata": {},
   "source": [
    "## 2. $\\ell_2$-Regularized Matrix Factorization Model (ALS)\n",
    "\n",
    "\n",
    "Matrix factorization is another method that attempts to find a low-rank approximation of the incomplete rating matrix $A$. Specifically, the goal is to factor $A$ as the product of two low-rank matrices $X$ and $Y$:\n",
    "\n",
    "$$\n",
    "R = X Y^T\n",
    "$$\n",
    "\n",
    "Where:\n",
    "\n",
    "- Each row $x_u$ in $X$ is the **latent feature vector** for user $u$\n",
    "- Each row $y_i$ in $Y$ is the **latent feature vector** for anime item $i$\n",
    "\n",
    "The predicted rating for user $u$ on anime $i$ is given by the dot product:\n",
    "\n",
    "$$\n",
    "R_{ui} = x_u^T y_i\n",
    "$$\n",
    "\n",
    "---\n",
    "\n",
    "We define the **objective function** to minimize the reconstruction error on known ratings while regularizing the latent vectors:\n",
    "\n",
    "$$\n",
    "\\min_{X, Y} \\sum_{(u,i) \\in \\Delta} (A_{ui} - x_u^T y_i)^2 + \\lambda_2 \\left( \\sum_u \\|x_u\\|^2 + \\sum_i \\|y_i\\|^2 \\right)\n",
    "$$\n",
    "\n",
    "This optimization problem is **non-convex**, but we use **Alternating Least Squares (ALS)** to solve it efficiently by alternating between solving for $X$ while fixing $Y$, and vice versa.\n",
    "\n",
    "Each subproblem reduces to a regularized least squares problem:\n",
    "\n",
    "$$\n",
    "A^T A \\, \\mathbf{x} \\approx A^T \\mathbf{b}\n",
    "$$\n",
    "\n",
    "---\n",
    "\n",
    "### ALS Update Rules\n",
    "\n",
    "For each user $u$:\n",
    "\n",
    "- Let $\\Delta_u$ be the set of anime rated by user $u$\n",
    "- Let $Y_u$ be the submatrix of $Y$ with rows $y_i$ for $i \\in \\Delta_u$\n",
    "- Let $A_{u,\\Delta_u}$ be the known ratings for those items\n",
    "\n",
    "Then:\n",
    "\n",
    "$$\n",
    "x_u = (Y_u^T Y_u + \\lambda_2 I)^{-1} Y_u^T A_{u,\\Delta_u}\n",
    "$$\n",
    "\n",
    "For each anime $i$:\n",
    "\n",
    "- Let $\\Delta_i$ be the set of users who rated anime $i$\n",
    "- Let $X_i$ be the submatrix of $X$ with rows $x_u$ for $u \\in \\Delta_i$\n",
    "- Let $A_{\\Delta_i,i}$ be the known ratings for those users\n",
    "\n",
    "Then:\n",
    "\n",
    "$$\n",
    "y_i = (X_i^T X_i + \\lambda_2 I)^{-1} X_i^T A_{\\Delta_i,i}\n",
    "$$\n",
    "\n",
    "---\n",
    "\n",
    "By alternating these updates, the model gradually learns low-dimensional embeddings for users and anime, producing a completed matrix $R$ that approximates the original rating matrix $A$.\n"
   ]
  },
  {
   "cell_type": "code",
   "execution_count": 4,
   "id": "8483d3a8-50d5-4b6e-bf3d-251c8cd0b609",
   "metadata": {},
   "outputs": [
    {
     "data": {
      "text/html": [
       "<div>\n",
       "<style scoped>\n",
       "    .dataframe tbody tr th:only-of-type {\n",
       "        vertical-align: middle;\n",
       "    }\n",
       "\n",
       "    .dataframe tbody tr th {\n",
       "        vertical-align: top;\n",
       "    }\n",
       "\n",
       "    .dataframe thead th {\n",
       "        text-align: right;\n",
       "    }\n",
       "</style>\n",
       "<table border=\"1\" class=\"dataframe\">\n",
       "  <thead>\n",
       "    <tr style=\"text-align: right;\">\n",
       "      <th></th>\n",
       "      <th>a_id</th>\n",
       "      <th>predicted_rating</th>\n",
       "      <th>title</th>\n",
       "    </tr>\n",
       "  </thead>\n",
       "  <tbody>\n",
       "    <tr>\n",
       "      <th>0</th>\n",
       "      <td>9253</td>\n",
       "      <td>9.951663</td>\n",
       "      <td>Steins;Gate</td>\n",
       "    </tr>\n",
       "    <tr>\n",
       "      <th>1</th>\n",
       "      <td>7724</td>\n",
       "      <td>9.652122</td>\n",
       "      <td>Shiki</td>\n",
       "    </tr>\n",
       "    <tr>\n",
       "      <th>2</th>\n",
       "      <td>2966</td>\n",
       "      <td>9.290651</td>\n",
       "      <td>Ookami to Koushinryou</td>\n",
       "    </tr>\n",
       "    <tr>\n",
       "      <th>3</th>\n",
       "      <td>34933</td>\n",
       "      <td>9.119918</td>\n",
       "      <td>Kakegurui</td>\n",
       "    </tr>\n",
       "    <tr>\n",
       "      <th>4</th>\n",
       "      <td>2251</td>\n",
       "      <td>9.106991</td>\n",
       "      <td>Baccano!</td>\n",
       "    </tr>\n",
       "  </tbody>\n",
       "</table>\n",
       "</div>"
      ],
      "text/plain": [
       "    a_id  predicted_rating                  title\n",
       "0   9253          9.951663            Steins;Gate\n",
       "1   7724          9.652122                  Shiki\n",
       "2   2966          9.290651  Ookami to Koushinryou\n",
       "3  34933          9.119918              Kakegurui\n",
       "4   2251          9.106991               Baccano!"
      ]
     },
     "execution_count": 4,
     "metadata": {},
     "output_type": "execute_result"
    }
   ],
   "source": [
    "X, Y = als(df, rank=20, iterations=100)\n",
    "R_als = X @ Y.T\n",
    "recommend_anime(R_als, u_id=31, original_df=df, x=5)"
   ]
  },
  {
   "cell_type": "markdown",
   "id": "f11d7373-728b-4a2f-9810-5ed09b39edf6",
   "metadata": {},
   "source": [
    "## 3. Nuclear Norm Minimization Model\n",
    "\n",
    "We also explore the classic, convex-relaxed **nuclear norm optimization** problem. This model directly completes the matrix by minimizing its nuclear norm, subject to equality constraints on known entries:\n",
    "\n",
    "$$\n",
    "\\min_{R \\in \\mathbb{R}^{m \\times n}} \\left\\| R \\right\\|_\\ast \\quad \\text{subject to } R_{ui} = A_{ui}, \\quad \\forall (u,i) \\in \\Delta\n",
    "$$\n",
    "\n",
    "Where:\n",
    "\n",
    "- $\\left\\| R \\right\\|_\\ast$ is the **nuclear norm** of $R$, equal to the sum of its singular values.\n",
    "- $\\Delta$ is the set of indices $(u, i)$ for which the rating $A_{ui}$ is known.\n",
    "\n",
    "---\n",
    "\n",
    "Unlike spectral regularization or ALS models, this approach **does not include a reconstruction error loss term** — it assumes that the known entries are exact, and finds the **lowest-rank matrix** (in convex approximation) consistent with those observations.\n",
    "\n",
    "This method is particularly useful when data is sparse and **low-rank structure** is expected, such as in recommendation systems.\n"
   ]
  },
  {
   "cell_type": "code",
   "execution_count": 5,
   "id": "eeb949fe-43bf-48a7-9cfa-55ea5c75e3bb",
   "metadata": {},
   "outputs": [
    {
     "name": "stdout",
     "output_type": "stream",
     "text": [
      "Nuclear norm model succeeded.\n",
      "   a_id  predicted_rating                  title\n",
      "0    19          9.607469                Monster\n",
      "1  7724          9.343664                  Shiki\n",
      "2  2966          9.290221  Ookami to Koushinryou\n",
      "3    66          9.190788         Azumanga Daioh\n",
      "4  4181          9.013552   Clannad: After Story\n"
     ]
    }
   ],
   "source": [
    "R_nuclear = nuclear_norm_model_df(df)\n",
    "\n",
    "recommendations = recommend_anime(R_nuclear, u_id=31, original_df=df, x=5)\n",
    "print(recommendations)"
   ]
  },
  {
   "cell_type": "markdown",
   "id": "fae80695-4467-46fc-b9e3-3798066b81f2",
   "metadata": {},
   "source": [
    "## 4. Spectral Regularization Model\n",
    "\n",
    "\n",
    "This spectral regularization model uses the **nuclear norm** of the recovered matrix \\( R \\). If \\( \\sigma_i \\) are the singular values of \\( R \\), then the nuclear norm is the sum of those singular values. The objective of this model is to balance the minimization of the approximation errors in the known entries and the nuclear norm of \\( R \\):\n",
    "\n",
    "$$\n",
    "\\min_{R \\in \\mathbb{R}^{m \\times n}} \\frac{1}{2} \\sum_{(u,i) \\in \\Delta} (R_{ui} - A_{ui})^2 + \\lambda_3 \\left\\| R \\right\\|_\\ast\n",
    "$$\n",
    "\n",
    "Where:\n",
    "\n",
    "- $ R \\in \\mathbb{R}^{m \\times n} $ is the full constructed matrix  \n",
    "- $ \\left\\| R \\right\\|_\\ast = \\sum_i \\sigma_i(R) $ is the **nuclear norm**, or the sum of the singular values of $ R $  \n",
    "- $ \\lambda_3 > 0 $ is the regularization parameter controlling the weight of the nuclear norm\n",
    "\n",
    "---\n",
    "\n",
    "Unlike the $ \\ell_2 $-regularized matrix factorization model, this formulation does not factor the matrix into $ X $ and $ Y $; instead, it directly optimizes over the matrix $ R $, penalizing its nuclear norm to encourage **low-rank solutions**.\n",
    "\n",
    "The nuclear norm serves as a **convex relaxation of the matrix rank function**, making this optimization problem convex and solvable using standard convex programming techniques. Overall, this model seeks to:\n",
    "\n",
    "- Minimize squared reconstruction error on known ratings\n",
    "- Promote a low-rank structure in the completed matrix via nuclear norm regularization\n"
   ]
  },
  {
   "cell_type": "code",
   "execution_count": 6,
   "id": "ed6ed87f-d0a7-49e6-9f3f-5ea6b9ae7a99",
   "metadata": {},
   "outputs": [
    {
     "name": "stderr",
     "output_type": "stream",
     "text": [
      "/Library/Frameworks/Python.framework/Versions/3.13/lib/python3.13/site-packages/cvxpy/problems/problem.py:158: UserWarning: Objective contains too many subexpressions. Consider vectorizing your CVXPY code to speed up compilation.\n",
      "  warnings.warn(\"Objective contains too many subexpressions. \"\n"
     ]
    },
    {
     "name": "stdout",
     "output_type": "stream",
     "text": [
      "Spectral regularization model succeeded.\n",
      "   a_id  predicted_rating                          title\n",
      "0    19          9.509024                        Monster\n",
      "1  2966          9.230938          Ookami to Koushinryou\n",
      "2  7724          9.140160                          Shiki\n",
      "3    66          9.051557                 Azumanga Daioh\n",
      "4   199          8.852536  Sen to Chihiro no Kamikakushi\n"
     ]
    }
   ],
   "source": [
    "R_spectral = spectral_regularization_model(_lambda=1.0, df=df)\n",
    "\n",
    "recommendations = recommend_anime(R_spectral, u_id=31, original_df=df, x=5)\n",
    "print(recommendations)"
   ]
  },
  {
   "cell_type": "markdown",
   "id": "c6906c32-5581-41ac-8d17-578c7d80e0cd",
   "metadata": {},
   "source": [
    "## 5. Compare each model using RSME"
   ]
  },
  {
   "cell_type": "code",
   "execution_count": 7,
   "id": "f5eae29b-67b7-4be8-873a-459abc6cb393",
   "metadata": {},
   "outputs": [
    {
     "name": "stdout",
     "output_type": "stream",
     "text": [
      "Model Evaluation (RMSE on training set):\n",
      "Baseline RMSE:           1.4486\n",
      "ALS RMSE:                0.0202\n",
      "Nuclear Norm RMSE:       0.0000\n",
      "Spectral Reg. RMSE:      0.1627\n"
     ]
    }
   ],
   "source": [
    "print(\"Model Evaluation (RMSE on training set):\")\n",
    "print(f\"Baseline RMSE:           {RMSE(R_baseline, df):.4f}\")\n",
    "print(f\"ALS RMSE:                {RMSE(R_als, df):.4f}\")\n",
    "print(f\"Nuclear Norm RMSE:       {RMSE(R_nuclear, df):.4f}\")\n",
    "print(f\"Spectral Reg. RMSE:      {RMSE(R_spectral, df):.4f}\")"
   ]
  },
  {
   "cell_type": "code",
   "execution_count": null,
   "id": "a1899ab1-97b3-40bf-906d-35eada201e9a",
   "metadata": {},
   "outputs": [],
   "source": []
  }
 ],
 "metadata": {
  "kernelspec": {
   "display_name": "Python 3 (ipykernel)",
   "language": "python",
   "name": "python3"
  },
  "language_info": {
   "codemirror_mode": {
    "name": "ipython",
    "version": 3
   },
   "file_extension": ".py",
   "mimetype": "text/x-python",
   "name": "python",
   "nbconvert_exporter": "python",
   "pygments_lexer": "ipython3",
   "version": "3.12.5"
  }
 },
 "nbformat": 4,
 "nbformat_minor": 5
}
