{
 "cells": [
  {
   "cell_type": "code",
   "execution_count": 8,
   "metadata": {},
   "outputs": [],
   "source": [
    "import pandas as pd\n",
    "import numpy as np\n",
    "import matplotlib.pyplot as plt\n",
    "import concurrent.futures\n",
    "import cvxpy as cp\n"
   ]
  },
  {
   "cell_type": "code",
   "execution_count": 12,
   "metadata": {},
   "outputs": [
    {
     "name": "stdout",
     "output_type": "stream",
     "text": [
      "(7162, 1590)\n"
     ]
    }
   ],
   "source": [
    "df = pd.read_csv(\"data/final_data.csv\")\n",
    "data_df = df.pivot(index='u_id', columns='a_id', values='score').fillna(0)\n",
    "data_matrix = data_df.values\n",
    "print(data_df.shape)"
   ]
  },
  {
   "cell_type": "code",
   "execution_count": 13,
   "metadata": {},
   "outputs": [
    {
     "data": {
      "text/html": [
       "<div>\n",
       "<style scoped>\n",
       "    .dataframe tbody tr th:only-of-type {\n",
       "        vertical-align: middle;\n",
       "    }\n",
       "\n",
       "    .dataframe tbody tr th {\n",
       "        vertical-align: top;\n",
       "    }\n",
       "\n",
       "    .dataframe thead th {\n",
       "        text-align: right;\n",
       "    }\n",
       "</style>\n",
       "<table border=\"1\" class=\"dataframe\">\n",
       "  <thead>\n",
       "    <tr style=\"text-align: right;\">\n",
       "      <th></th>\n",
       "      <th>u_id</th>\n",
       "      <th>a_id</th>\n",
       "      <th>score</th>\n",
       "    </tr>\n",
       "  </thead>\n",
       "  <tbody>\n",
       "    <tr>\n",
       "      <th>0</th>\n",
       "      <td>0</td>\n",
       "      <td>12403</td>\n",
       "      <td>6</td>\n",
       "    </tr>\n",
       "    <tr>\n",
       "      <th>1</th>\n",
       "      <td>104</td>\n",
       "      <td>12403</td>\n",
       "      <td>9</td>\n",
       "    </tr>\n",
       "    <tr>\n",
       "      <th>2</th>\n",
       "      <td>109</td>\n",
       "      <td>12403</td>\n",
       "      <td>8</td>\n",
       "    </tr>\n",
       "    <tr>\n",
       "      <th>3</th>\n",
       "      <td>460</td>\n",
       "      <td>12403</td>\n",
       "      <td>7</td>\n",
       "    </tr>\n",
       "    <tr>\n",
       "      <th>4</th>\n",
       "      <td>1336</td>\n",
       "      <td>12403</td>\n",
       "      <td>10</td>\n",
       "    </tr>\n",
       "    <tr>\n",
       "      <th>...</th>\n",
       "      <td>...</td>\n",
       "      <td>...</td>\n",
       "      <td>...</td>\n",
       "    </tr>\n",
       "    <tr>\n",
       "      <th>59149</th>\n",
       "      <td>15121</td>\n",
       "      <td>3230</td>\n",
       "      <td>8</td>\n",
       "    </tr>\n",
       "    <tr>\n",
       "      <th>59150</th>\n",
       "      <td>15698</td>\n",
       "      <td>3230</td>\n",
       "      <td>8</td>\n",
       "    </tr>\n",
       "    <tr>\n",
       "      <th>59151</th>\n",
       "      <td>22915</td>\n",
       "      <td>3230</td>\n",
       "      <td>7</td>\n",
       "    </tr>\n",
       "    <tr>\n",
       "      <th>59152</th>\n",
       "      <td>24855</td>\n",
       "      <td>3230</td>\n",
       "      <td>6</td>\n",
       "    </tr>\n",
       "    <tr>\n",
       "      <th>59153</th>\n",
       "      <td>35762</td>\n",
       "      <td>3230</td>\n",
       "      <td>7</td>\n",
       "    </tr>\n",
       "  </tbody>\n",
       "</table>\n",
       "<p>59154 rows × 3 columns</p>\n",
       "</div>"
      ],
      "text/plain": [
       "        u_id   a_id  score\n",
       "0          0  12403      6\n",
       "1        104  12403      9\n",
       "2        109  12403      8\n",
       "3        460  12403      7\n",
       "4       1336  12403     10\n",
       "...      ...    ...    ...\n",
       "59149  15121   3230      8\n",
       "59150  15698   3230      8\n",
       "59151  22915   3230      7\n",
       "59152  24855   3230      6\n",
       "59153  35762   3230      7\n",
       "\n",
       "[59154 rows x 3 columns]"
      ]
     },
     "execution_count": 13,
     "metadata": {},
     "output_type": "execute_result"
    }
   ],
   "source": [
    "delta=df[['u_id', 'a_id', 'score']]\n",
    "delta"
   ]
  },
  {
   "cell_type": "code",
   "execution_count": 14,
   "metadata": {},
   "outputs": [],
   "source": [
    "user_id_index_map = {u_id: idx for idx, u_id in enumerate(data_df.index)}\n",
    "anime_id_index_map = {a_id: idx for idx, a_id in enumerate(data_df.columns)}\n",
    "\n",
    "def user_id_to_index(uid):\n",
    "    return user_id_index_map.get(uid, -1)  # returns -1 if uid not found\n",
    "\n",
    "def anime_id_to_index(aid):\n",
    "    return anime_id_index_map.get(aid, -1) # returns -1 if aid not found"
   ]
  },
  {
   "cell_type": "code",
   "execution_count": 15,
   "metadata": {},
   "outputs": [
    {
     "data": {
      "text/plain": [
       "1413"
      ]
     },
     "execution_count": 15,
     "metadata": {},
     "output_type": "execute_result"
    }
   ],
   "source": [
    "anime_id_to_index(35760)"
   ]
  },
  {
   "cell_type": "code",
   "execution_count": 16,
   "metadata": {},
   "outputs": [],
   "source": [
    "#This takes in dataframe input\n",
    "def nuclear_norm_model_df(df):\n",
    "    user_list = sorted(df['u_id'].unique())\n",
    "    anime_list = sorted(df['a_id'].unique())\n",
    "\n",
    "    num_users = len(user_list)\n",
    "    num_anime = len(anime_list)\n",
    "\n",
    "    user_id_to_index = {u_id: idx for idx, u_id in enumerate(user_list)}\n",
    "    anime_id_to_index = {a_id: idx for idx, a_id in enumerate(anime_list)}\n",
    "\n",
    "    R = cp.Variable((num_users, num_anime))\n",
    "\n",
    "    delta = df[['u_id', 'a_id', 'score']]\n",
    "    constraints = []\n",
    "\n",
    "    for idx in range(len(delta)):\n",
    "        u = user_id_to_index[int(delta.at[idx, 'u_id'])]\n",
    "        i = anime_id_to_index[int(delta.at[idx, 'a_id'])]\n",
    "        score = delta.at[idx, 'score']\n",
    "        constraints.append(R[u, i] == score)\n",
    "\n",
    "    obj = cp.Minimize(cp.normNuc(R))\n",
    "\n",
    "    prob = cp.Problem(obj, constraints)\n",
    "    prob.solve(solver=cp.SCS)\n",
    "\n",
    "    if prob.status == cp.OPTIMAL:\n",
    "        print(\"Optimization succeeded.\")\n",
    "        return R.value\n",
    "    else:\n",
    "        print(f\"Optimization failed with status: {prob.status}\")\n",
    "        return None\n",
    "\n",
    "#This takes in matrix input\n",
    "def nuclear_norm_model_matrix(data_matrix):\n",
    "    num_users, num_anime = data_matrix.shape\n",
    "\n",
    "    R = cp.Variable((num_users, num_anime))\n",
    "\n",
    "    constraints = []\n",
    "    for i in range(num_users):\n",
    "        for j in range(num_anime):\n",
    "            if data_matrix[i, j] != 0:\n",
    "                constraints.append(R[i, j] == data_matrix[i, j])\n",
    "\n",
    "    objective = cp.Minimize(cp.normNuc(R))\n",
    "    problem = cp.Problem(objective, constraints)\n",
    "    problem.solve(solver=cp.SCS)\n",
    "\n",
    "    if problem.status == cp.OPTIMAL:\n",
    "        print(\"Optimization succeeded.\")\n",
    "        return R.value\n",
    "    else:\n",
    "        print(f\"Optimization failed. Status: {problem.status}\")\n",
    "        return None\n"
   ]
  },
  {
   "cell_type": "code",
   "execution_count": null,
   "metadata": {},
   "outputs": [],
   "source": [
    "completed_matrix = nuclear_norm_model_matrix(data_matrix)\n"
   ]
  },
  {
   "cell_type": "code",
   "execution_count": null,
   "metadata": {},
   "outputs": [],
   "source": []
  }
 ],
 "metadata": {
  "kernelspec": {
   "display_name": "Python 3 (ipykernel)",
   "language": "python",
   "name": "python3"
  },
  "language_info": {
   "codemirror_mode": {
    "name": "ipython",
    "version": 3
   },
   "file_extension": ".py",
   "mimetype": "text/x-python",
   "name": "python",
   "nbconvert_exporter": "python",
   "pygments_lexer": "ipython3",
   "version": "3.13.0"
  }
 },
 "nbformat": 4,
 "nbformat_minor": 4
}
