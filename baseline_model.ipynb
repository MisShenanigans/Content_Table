{
 "cells": [
  {
   "cell_type": "code",
   "execution_count": 1,
   "metadata": {},
   "outputs": [],
   "source": [
    "import contextlib\n",
    "import io\n",
    "\n",
    "f = io.StringIO()\n",
    "with contextlib.redirect_stdout(f):\n",
    "    import pandas as pd\n",
    "    import numpy as np\n",
    "    import cvxpy as cp\n",
    "    import matplotlib.pyplot as plt\n",
    "\n",
    "    import warnings\n",
    "    warnings.filterwarnings(\"ignore\", category=UserWarning)"
   ]
  },
  {
   "cell_type": "code",
   "execution_count": 2,
   "metadata": {},
   "outputs": [],
   "source": [
    "df = pd.read_csv(\"data/100x100.csv\")\n",
    "df_2 = pd.read_csv(\"data/100x100_2.csv\")"
   ]
  },
  {
   "cell_type": "code",
   "execution_count": 3,
   "metadata": {},
   "outputs": [],
   "source": [
    "def baseline_model(_lambda,df):\n",
    "\n",
    "\n",
    "    data_matrix = df.pivot(index='u_id', columns='a_id', values='score').fillna(0)\n",
    "    delta = df[['u_id', 'a_id', 'score']]\n",
    "    avg_rating = df['score'].mean()\n",
    "    num_users = data_matrix.shape[0]\n",
    "    num_anime = data_matrix.shape[1]\n",
    "\n",
    "    b_u=cp.Variable(num_users)\n",
    "    b_i=cp.Variable(num_anime)\n",
    "\n",
    "    user_id_to_index = {} #helper function\n",
    "    for idx in range(len(data_matrix.index)):\n",
    "        u_id = data_matrix.index[idx]\n",
    "        user_id_to_index[u_id] = idx\n",
    "    \n",
    "    anime_id_to_index = {} #helper function\n",
    "    for idx in range(len(data_matrix.columns)):\n",
    "        a_id = data_matrix.columns[idx]\n",
    "        anime_id_to_index[a_id] = idx\n",
    "        \n",
    "    R_ui=[]\n",
    "    for ui in range(len(delta)):\n",
    "        u = user_id_to_index[int(delta.at[ui,'u_id'])]\n",
    "        i = anime_id_to_index[int(delta.at[ui,'a_id'])]\n",
    "        R_ui.append((avg_rating + b_u[u] + b_i[i])) #R_ui=avg_rating+b_u[u]+b_i[i]\n",
    "\n",
    "    training_error=[]\n",
    "    for ui in range(len(delta)):\n",
    "        training_error.append((R_ui[ui]-int(delta.at[ui,'score']))**2) #(R_ui-A_ui)^2\n",
    "\n",
    "    training_error_sum=cp.sum(training_error) #sum((R_ui-A_ui)^2)\n",
    "\n",
    "    regularized_u=cp.sum_squares(b_u) #sum(b_u^2)\n",
    "    regularized_i=cp.sum_squares(b_i) #sum(b_i^2)\n",
    "\n",
    "    obj=cp.Minimize(training_error_sum+ _lambda*(regularized_u+regularized_i))\n",
    "    prob=cp.Problem(obj)\n",
    "    prob.solve()\n",
    "    print(\"status:\", prob.status)\n",
    "    \n",
    "    R = np.zeros((num_users, num_anime))\n",
    "    for u in range(num_users):\n",
    "        for i in range(num_anime):\n",
    "            R[u, i] = avg_rating + b_u.value[u] + b_i.value[i]\n",
    "    \n",
    "    return np.matrix(R)"
   ]
  },
  {
   "cell_type": "code",
   "execution_count": 4,
   "metadata": {},
   "outputs": [
    {
     "name": "stdout",
     "output_type": "stream",
     "text": [
      "status: optimal\n"
     ]
    }
   ],
   "source": [
    "R = baseline_model(10000, df)"
   ]
  }
 ],
 "metadata": {
  "kernelspec": {
   "display_name": "Python 3",
   "language": "python",
   "name": "python3"
  },
  "language_info": {
   "codemirror_mode": {
    "name": "ipython",
    "version": 3
   },
   "file_extension": ".py",
   "mimetype": "text/x-python",
   "name": "python",
   "nbconvert_exporter": "python",
   "pygments_lexer": "ipython3",
   "version": "3.12.1"
  }
 },
 "nbformat": 4,
 "nbformat_minor": 4
}
