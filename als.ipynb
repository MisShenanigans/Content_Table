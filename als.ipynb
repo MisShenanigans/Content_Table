{
 "cells": [
  {
   "cell_type": "code",
   "execution_count": 35,
   "metadata": {},
   "outputs": [],
   "source": [
    "import pandas as pd\n",
    "import numpy as np\n",
    "import matplotlib.pyplot as plt"
   ]
  },
  {
   "cell_type": "code",
   "execution_count": 36,
   "metadata": {},
   "outputs": [],
   "source": [
    "df = pd.read_csv(\"data/100x100.csv\")\n",
    "data_matrix = df.pivot(index='u_id', columns='a_id', values='score').fillna(0)\n",
    "data_matrix_values = data_matrix.values"
   ]
  },
  {
   "cell_type": "code",
   "execution_count": 37,
   "metadata": {},
   "outputs": [],
   "source": [
    "# example given in the notebook\n",
    "'''\n",
    "Original matrix = 0.5 ? 4\n",
    "                   1  3 5\n",
    "'''\n",
    "U = np.array([[0.7461],\n",
    "              [1.7966]])\n",
    "P = np.array([[0.758, 2.5431, 4.7999]])\n",
    "prediction = U@P"
   ]
  },
  {
   "cell_type": "code",
   "execution_count": 38,
   "metadata": {},
   "outputs": [],
   "source": [
    "def als(matrix, rank, iterations, regularization=0.1):\n",
    "    num_users, num_items = matrix.shape\n",
    "    X = np.ones((num_users, rank)) \n",
    "    Y = np.ones((num_items, rank)) \n",
    "    mask = matrix > 0\n",
    "\n",
    "    for _ in range(iterations):\n",
    "        for i in range(num_users):\n",
    "            Y_i = Y[mask[i]]\n",
    "            if Y_i.size == 0:\n",
    "                continue\n",
    "            A = Y_i.T @ Y_i + regularization * np.eye(rank)\n",
    "            b = Y_i.T @ matrix[i, mask[i]]\n",
    "            X[i] = np.linalg.lstsq(A, b, rcond=None)[0]\n",
    "\n",
    "        for j in range(num_items):\n",
    "            X_j = X[mask[:, j]]\n",
    "            if X_j.size == 0:\n",
    "                continue\n",
    "            A = X_j.T @ X_j + regularization * np.eye(rank)\n",
    "            b = X_j.T @ matrix[mask[:, j], j]\n",
    "            Y[j] = np.linalg.lstsq(A, b, rcond=None)[0]\n",
    "\n",
    "    return X, Y\n"
   ]
  },
  {
   "cell_type": "code",
   "execution_count": 39,
   "metadata": {},
   "outputs": [],
   "source": [
    "# usage\n",
    "X, Y = als(data_matrix_values, rank=20, iterations=10)"
   ]
  },
  {
   "cell_type": "code",
   "execution_count": 40,
   "metadata": {},
   "outputs": [],
   "source": [
    "# we tested for different rank values between 10 and 100, and found that 20 works the best for not overfitting\n",
    "rank = 20"
   ]
  },
  {
   "cell_type": "code",
   "execution_count": 41,
   "metadata": {},
   "outputs": [],
   "source": [
    "X, Y = als(data_matrix_values, rank=rank, iterations=10)\n",
    "predicted_ratings_10_iters = X @ Y.T\n",
    "\n",
    "predicted_ratings_10_iters_df = pd.DataFrame(predicted_ratings_10_iters, index=data_matrix.index, columns=data_matrix.columns)"
   ]
  },
  {
   "cell_type": "code",
   "execution_count": 42,
   "metadata": {},
   "outputs": [],
   "source": [
    "X, Y =  als(data_matrix_values, rank=rank, iterations=100)\n",
    "predicted_ratings_100_iters = X @ Y.T\n",
    "\n",
    "predicted_ratings_100_iters_df = pd.DataFrame(predicted_ratings_100_iters, index=data_matrix.index, columns=data_matrix.columns)"
   ]
  },
  {
   "cell_type": "code",
   "execution_count": 43,
   "metadata": {},
   "outputs": [],
   "source": [
    "X, Y = als(data_matrix_values, rank=rank, iterations=1000)\n",
    "predicted_ratings_1000_iters = X @ Y.T\n",
    "predicted_ratings_1000_iters_df = pd.DataFrame(predicted_ratings_1000_iters, index=data_matrix.index, columns=data_matrix.columns)"
   ]
  },
  {
   "cell_type": "code",
   "execution_count": 44,
   "metadata": {},
   "outputs": [
    {
     "data": {
      "text/plain": [
       "'\\nprint(\"min values for 10, 100, and 1000 iterations\")\\nprint(predicted_ratings_10_iters.min())\\nprint(predicted_ratings_100_iters.min())\\nprint(predicted_ratings_1000_iters.min())\\nprint(\"<------------------>\")\\nprint(\"max values for 10, 100, and 1000 iterations\")\\nprint(predicted_ratings_10_iters.max())\\nprint(predicted_ratings_100_iters.max())\\nprint(predicted_ratings_1000_iters.max())\\n'"
      ]
     },
     "execution_count": 44,
     "metadata": {},
     "output_type": "execute_result"
    }
   ],
   "source": [
    "'''\n",
    "print(\"min values for 10, 100, and 1000 iterations\")\n",
    "print(predicted_ratings_10_iters.min())\n",
    "print(predicted_ratings_100_iters.min())\n",
    "print(predicted_ratings_1000_iters.min())\n",
    "print(\"<------------------>\")\n",
    "print(\"max values for 10, 100, and 1000 iterations\")\n",
    "print(predicted_ratings_10_iters.max())\n",
    "print(predicted_ratings_100_iters.max())\n",
    "print(predicted_ratings_1000_iters.max())\n",
    "'''"
   ]
  },
  {
   "cell_type": "code",
   "execution_count": null,
   "metadata": {},
   "outputs": [],
   "source": []
  }
 ],
 "metadata": {
  "kernelspec": {
   "display_name": "Python 3",
   "language": "python",
   "name": "python3"
  },
  "language_info": {
   "codemirror_mode": {
    "name": "ipython",
    "version": 3
   },
   "file_extension": ".py",
   "mimetype": "text/x-python",
   "name": "python",
   "nbconvert_exporter": "python",
   "pygments_lexer": "ipython3",
   "version": "3.13.0"
  }
 },
 "nbformat": 4,
 "nbformat_minor": 2
}
