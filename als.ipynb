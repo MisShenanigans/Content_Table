{
 "cells": [
  {
   "cell_type": "code",
   "execution_count": 1,
   "metadata": {},
   "outputs": [],
   "source": [
    "import pandas as pd\n",
    "import numpy as np\n",
    "import matplotlib.pyplot as plt"
   ]
  },
  {
   "cell_type": "code",
   "execution_count": 2,
   "metadata": {},
   "outputs": [],
   "source": [
    "df = pd.read_csv(\"data/100x100.csv\")\n",
    "data_matrix = df.pivot(index='u_id', columns='a_id', values='score').fillna(0)\n",
    "data_matrix_values = data_matrix.values"
   ]
  },
  {
   "cell_type": "code",
   "execution_count": 3,
   "metadata": {},
   "outputs": [],
   "source": [
    "# example given in the notebook\n",
    "'''\n",
    "Original matrix = 0.5 ? 4\n",
    "                   1  3 5\n",
    "'''\n",
    "U = np.array([[0.7461],\n",
    "              [1.7966]])\n",
    "P = np.array([[0.758, 2.5431, 4.7999]])\n",
    "prediction = U@P"
   ]
  },
  {
   "cell_type": "code",
   "execution_count": 4,
   "metadata": {},
   "outputs": [],
   "source": [
    "def als(df, rank, iterations, regularization=0.1):\n",
    "    data_matrix = df.pivot(index='u_id', columns='a_id', values='score').fillna(0)\n",
    "    matrix = data_matrix.values\n",
    "    num_users, num_items = matrix.shape\n",
    "    X = np.ones((num_users, rank)) \n",
    "    Y = np.ones((num_items, rank)) \n",
    "    mask = matrix > 0\n",
    "\n",
    "    for _ in range(iterations):\n",
    "        for i in range(num_users):\n",
    "            Y_i = Y[mask[i]]\n",
    "            if Y_i.size == 0:\n",
    "                continue\n",
    "            A = Y_i.T @ Y_i + regularization * np.eye(rank)\n",
    "            b = Y_i.T @ matrix[i, mask[i]]\n",
    "            X[i] = np.linalg.lstsq(A, b, rcond=None)[0]\n",
    "\n",
    "        for j in range(num_items):\n",
    "            X_j = X[mask[:, j]]\n",
    "            if X_j.size == 0:\n",
    "                continue\n",
    "            A = X_j.T @ X_j + regularization * np.eye(rank)\n",
    "            b = X_j.T @ matrix[mask[:, j], j]\n",
    "            Y[j] = np.linalg.lstsq(A, b, rcond=None)[0]\n",
    "\n",
    "    return X, Y"
   ]
  },
  {
   "cell_type": "code",
   "execution_count": 5,
   "metadata": {},
   "outputs": [],
   "source": [
    "# we tested for different rank values between 10 and 100, and found that 20 works the best for not overfitting\n",
    "rank = 20"
   ]
  },
  {
   "cell_type": "code",
   "execution_count": 6,
   "metadata": {},
   "outputs": [],
   "source": [
    "X, Y = als(df, rank=rank, iterations=10)\n",
    "predicted_ratings_10_iters = X @ Y.T\n",
    "\n",
    "predicted_ratings_10_iters_df = pd.DataFrame(predicted_ratings_10_iters, index=data_matrix.index, columns=data_matrix.columns)"
   ]
  },
  {
   "cell_type": "code",
   "execution_count": 7,
   "metadata": {},
   "outputs": [],
   "source": [
    "X, Y =  als(df, rank=rank, iterations=100)\n",
    "predicted_ratings_100_iters = X @ Y.T\n",
    "\n",
    "predicted_ratings_100_iters_df = pd.DataFrame(predicted_ratings_100_iters, index=data_matrix.index, columns=data_matrix.columns)"
   ]
  },
  {
   "cell_type": "code",
   "execution_count": 8,
   "metadata": {},
   "outputs": [],
   "source": [
    "X, Y = als(df, rank=rank, iterations=1000)\n",
    "predicted_ratings_1000_iters = X @ Y.T\n",
    "predicted_ratings_1000_iters_df = pd.DataFrame(predicted_ratings_1000_iters, index=data_matrix.index, columns=data_matrix.columns)"
   ]
  },
  {
   "cell_type": "code",
   "execution_count": 9,
   "metadata": {},
   "outputs": [
    {
     "name": "stdout",
     "output_type": "stream",
     "text": [
      "min values for 10, 100, and 1000 iterations\n",
      "-7.299754122444684\n",
      "-1.7726237281113468\n",
      "-1.3508001545890058\n",
      "------------------\n",
      "max values for 10, 100, and 1000 iterations\n",
      "14.508077840082324\n",
      "12.801423993016815\n",
      "12.222731955253536\n"
     ]
    }
   ],
   "source": [
    "print(\"min values for 10, 100, and 1000 iterations\")\n",
    "print(predicted_ratings_10_iters.min())\n",
    "print(predicted_ratings_100_iters.min())\n",
    "print(predicted_ratings_1000_iters.min())\n",
    "print(\"------------------\")\n",
    "print(\"max values for 10, 100, and 1000 iterations\")\n",
    "print(predicted_ratings_10_iters.max())\n",
    "print(predicted_ratings_100_iters.max())\n",
    "print(predicted_ratings_1000_iters.max())\n"
   ]
  },
  {
   "cell_type": "code",
   "execution_count": null,
   "metadata": {},
   "outputs": [],
   "source": []
  }
 ],
 "metadata": {
  "kernelspec": {
   "display_name": "Python 3",
   "language": "python",
   "name": "python3"
  },
  "language_info": {
   "codemirror_mode": {
    "name": "ipython",
    "version": 3
   },
   "file_extension": ".py",
   "mimetype": "text/x-python",
   "name": "python",
   "nbconvert_exporter": "python",
   "pygments_lexer": "ipython3",
   "version": "3.12.1"
  }
 },
 "nbformat": 4,
 "nbformat_minor": 4
}
