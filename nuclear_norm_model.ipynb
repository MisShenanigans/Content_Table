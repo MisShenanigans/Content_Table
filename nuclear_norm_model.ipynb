{
 "cells": [
  {
   "cell_type": "code",
   "execution_count": 27,
   "metadata": {},
   "outputs": [],
   "source": [
    "import pandas as pd\n",
    "import numpy as np\n",
    "import matplotlib.pyplot as plt\n",
    "import concurrent.futures\n",
    "import cvxpy as cp\n",
    "import import_ipynb\n",
    "import als"
   ]
  },
  {
   "cell_type": "code",
   "execution_count": 8,
   "metadata": {},
   "outputs": [
    {
     "name": "stdout",
     "output_type": "stream",
     "text": [
      "(98, 97)\n"
     ]
    }
   ],
   "source": [
    "df = pd.read_csv(\"data/100x100.csv\")\n",
    "data_df = df.pivot(index='u_id', columns='a_id', values='score').fillna(0)\n",
    "data_matrix = data_df.values\n",
    "print(data_df.shape)"
   ]
  },
  {
   "cell_type": "code",
   "execution_count": 9,
   "metadata": {},
   "outputs": [
    {
     "data": {
      "text/html": [
       "<div>\n",
       "<style scoped>\n",
       "    .dataframe tbody tr th:only-of-type {\n",
       "        vertical-align: middle;\n",
       "    }\n",
       "\n",
       "    .dataframe tbody tr th {\n",
       "        vertical-align: top;\n",
       "    }\n",
       "\n",
       "    .dataframe thead th {\n",
       "        text-align: right;\n",
       "    }\n",
       "</style>\n",
       "<table border=\"1\" class=\"dataframe\">\n",
       "  <thead>\n",
       "    <tr style=\"text-align: right;\">\n",
       "      <th></th>\n",
       "      <th>u_id</th>\n",
       "      <th>a_id</th>\n",
       "      <th>score</th>\n",
       "    </tr>\n",
       "  </thead>\n",
       "  <tbody>\n",
       "    <tr>\n",
       "      <th>0</th>\n",
       "      <td>0</td>\n",
       "      <td>31240</td>\n",
       "      <td>9</td>\n",
       "    </tr>\n",
       "    <tr>\n",
       "      <th>1</th>\n",
       "      <td>16</td>\n",
       "      <td>31240</td>\n",
       "      <td>8</td>\n",
       "    </tr>\n",
       "    <tr>\n",
       "      <th>2</th>\n",
       "      <td>31</td>\n",
       "      <td>31240</td>\n",
       "      <td>9</td>\n",
       "    </tr>\n",
       "    <tr>\n",
       "      <th>3</th>\n",
       "      <td>50</td>\n",
       "      <td>31240</td>\n",
       "      <td>9</td>\n",
       "    </tr>\n",
       "    <tr>\n",
       "      <th>4</th>\n",
       "      <td>77</td>\n",
       "      <td>31240</td>\n",
       "      <td>4</td>\n",
       "    </tr>\n",
       "    <tr>\n",
       "      <th>...</th>\n",
       "      <td>...</td>\n",
       "      <td>...</td>\n",
       "      <td>...</td>\n",
       "    </tr>\n",
       "    <tr>\n",
       "      <th>1786</th>\n",
       "      <td>1098</td>\n",
       "      <td>28623</td>\n",
       "      <td>8</td>\n",
       "    </tr>\n",
       "    <tr>\n",
       "      <th>1787</th>\n",
       "      <td>1349</td>\n",
       "      <td>28623</td>\n",
       "      <td>8</td>\n",
       "    </tr>\n",
       "    <tr>\n",
       "      <th>1788</th>\n",
       "      <td>1484</td>\n",
       "      <td>28623</td>\n",
       "      <td>4</td>\n",
       "    </tr>\n",
       "    <tr>\n",
       "      <th>1789</th>\n",
       "      <td>3413</td>\n",
       "      <td>28623</td>\n",
       "      <td>6</td>\n",
       "    </tr>\n",
       "    <tr>\n",
       "      <th>1790</th>\n",
       "      <td>8074</td>\n",
       "      <td>28623</td>\n",
       "      <td>6</td>\n",
       "    </tr>\n",
       "  </tbody>\n",
       "</table>\n",
       "<p>1791 rows × 3 columns</p>\n",
       "</div>"
      ],
      "text/plain": [
       "      u_id   a_id  score\n",
       "0        0  31240      9\n",
       "1       16  31240      8\n",
       "2       31  31240      9\n",
       "3       50  31240      9\n",
       "4       77  31240      4\n",
       "...    ...    ...    ...\n",
       "1786  1098  28623      8\n",
       "1787  1349  28623      8\n",
       "1788  1484  28623      4\n",
       "1789  3413  28623      6\n",
       "1790  8074  28623      6\n",
       "\n",
       "[1791 rows x 3 columns]"
      ]
     },
     "execution_count": 9,
     "metadata": {},
     "output_type": "execute_result"
    }
   ],
   "source": [
    "delta=df[['u_id', 'a_id', 'score']]\n",
    "delta"
   ]
  },
  {
   "cell_type": "code",
   "execution_count": 10,
   "metadata": {},
   "outputs": [],
   "source": [
    "user_id_index_map = {u_id: idx for idx, u_id in enumerate(data_df.index)}\n",
    "anime_id_index_map = {a_id: idx for idx, a_id in enumerate(data_df.columns)}\n",
    "\n",
    "def user_id_to_index(uid):\n",
    "    return user_id_index_map.get(uid, -1)  # returns -1 if uid not found\n",
    "\n",
    "def anime_id_to_index(aid):\n",
    "    return anime_id_index_map.get(aid, -1) # returns -1 if aid not found"
   ]
  },
  {
   "cell_type": "code",
   "execution_count": 11,
   "metadata": {},
   "outputs": [
    {
     "data": {
      "text/plain": [
       "-1"
      ]
     },
     "execution_count": 11,
     "metadata": {},
     "output_type": "execute_result"
    }
   ],
   "source": [
    "anime_id_to_index(35760)"
   ]
  },
  {
   "cell_type": "code",
   "execution_count": 12,
   "metadata": {},
   "outputs": [],
   "source": [
    "#This takes in dataframe input\n",
    "def nuclear_norm_model_df(df):\n",
    "    user_list = sorted(df['u_id'].unique())\n",
    "    anime_list = sorted(df['a_id'].unique())\n",
    "\n",
    "    num_users = len(user_list)\n",
    "    num_anime = len(anime_list)\n",
    "\n",
    "    user_id_to_index = {u_id: idx for idx, u_id in enumerate(user_list)}\n",
    "    anime_id_to_index = {a_id: idx for idx, a_id in enumerate(anime_list)}\n",
    "\n",
    "    R = cp.Variable((num_users, num_anime))\n",
    "\n",
    "    delta = df[['u_id', 'a_id', 'score']]\n",
    "    constraints = []\n",
    "\n",
    "    for idx in range(len(delta)):\n",
    "        u = user_id_to_index[int(delta.at[idx, 'u_id'])]\n",
    "        i = anime_id_to_index[int(delta.at[idx, 'a_id'])]\n",
    "        score = delta.at[idx, 'score']\n",
    "        constraints.append(R[u, i] == score)\n",
    "\n",
    "    obj = cp.Minimize(cp.normNuc(R))\n",
    "\n",
    "    prob = cp.Problem(obj, constraints)\n",
    "    prob.solve(solver=cp.SCS)\n",
    "\n",
    "    if prob.status == cp.OPTIMAL:\n",
    "        print(\"Optimization succeeded.\")\n",
    "        return R.value\n",
    "    else:\n",
    "        print(f\"Optimization failed with status: {prob.status}\")\n",
    "        return None\n",
    "\n",
    "#This takes in matrix input\n",
    "def nuclear_norm_model_matrix(data_matrix):\n",
    "    num_users, num_anime = data_matrix.shape\n",
    "\n",
    "    R = cp.Variable((num_users, num_anime))\n",
    "\n",
    "    constraints = []\n",
    "    for i in range(num_users):\n",
    "        for j in range(num_anime):\n",
    "            if data_matrix[i, j] != 0:\n",
    "                constraints.append(R[i, j] == data_matrix[i, j])\n",
    "\n",
    "    objective = cp.Minimize(cp.normNuc(R))\n",
    "    problem = cp.Problem(objective, constraints)\n",
    "    problem.solve(solver=cp.SCS)\n",
    "\n",
    "    if problem.status == cp.OPTIMAL:\n",
    "        print(\"Optimization succeeded.\")\n",
    "        return R.value\n",
    "    else:\n",
    "        print(f\"Optimization failed. Status: {problem.status}\")\n",
    "        return None\n"
   ]
  },
  {
   "cell_type": "code",
   "execution_count": 19,
   "metadata": {},
   "outputs": [
    {
     "name": "stdout",
     "output_type": "stream",
     "text": [
      "Optimization succeeded.\n"
     ]
    },
    {
     "data": {
      "text/plain": [
       "array([[ 9.49241143,  6.341012  ,  4.82859751, ...,  7.0628775 ,\n",
       "         8.3159194 ,  7.42401477],\n",
       "       [ 7.53858754,  7.50951606,  6.86393561, ...,  5.32323032,\n",
       "         6.22940897,  7.28093332],\n",
       "       [10.07172448,  7.74447624,  6.23664432, ...,  5.69805971,\n",
       "         8.44565121,  8.66805702],\n",
       "       ...,\n",
       "       [ 9.75696905,  9.        ,  8.99999999, ...,  5.86471333,\n",
       "         9.07618339,  8.68743185],\n",
       "       [ 8.99374963,  8.61693734,  8.08403321, ...,  6.71098589,\n",
       "         8.74149551,  9.28175677],\n",
       "       [ 8.58730079,  6.94003213,  6.65879105, ...,  6.67842245,\n",
       "         6.60914645,  7.83763827]])"
      ]
     },
     "execution_count": 19,
     "metadata": {},
     "output_type": "execute_result"
    }
   ],
   "source": [
    "completed_matrix = nuclear_norm_model_matrix(data_matrix)\n",
    "completed_matrix"
   ]
  },
  {
   "cell_type": "code",
   "execution_count": 22,
   "metadata": {},
   "outputs": [
    {
     "data": {
      "text/plain": [
       "[(np.float64(11.57970503263862), (np.int64(23), np.int64(0))),\n",
       " (np.float64(11.242189073121445), (np.int64(14), np.int64(0))),\n",
       " (np.float64(11.047223453797033), (np.int64(41), np.int64(0))),\n",
       " (np.float64(10.834692074230773), (np.int64(61), np.int64(0))),\n",
       " (np.float64(10.831137085404324), (np.int64(47), np.int64(11)))]"
      ]
     },
     "execution_count": 22,
     "metadata": {},
     "output_type": "execute_result"
    }
   ],
   "source": [
    "def top_k_largest(matrix, k=5):\n",
    "    flat_indices = np.argpartition(matrix.ravel(), -k)[-k:]\n",
    "    sorted_indices = flat_indices[np.argsort(matrix.ravel()[flat_indices])[::-1]]\n",
    "    top_values = [(matrix.flat[idx], np.unravel_index(idx, matrix.shape)) for idx in sorted_indices]\n",
    "    return top_values\n",
    "\n",
    "\n",
    "top_k_largest(completed_matrix)"
   ]
  },
  {
   "cell_type": "code",
   "execution_count": null,
   "metadata": {},
   "outputs": [],
   "source": []
  }
 ],
 "metadata": {
  "kernelspec": {
   "display_name": "Python 3 (ipykernel)",
   "language": "python",
   "name": "python3"
  },
  "language_info": {
   "codemirror_mode": {
    "name": "ipython",
    "version": 3
   },
   "file_extension": ".py",
   "mimetype": "text/x-python",
   "name": "python",
   "nbconvert_exporter": "python",
   "pygments_lexer": "ipython3",
   "version": "3.13.0"
  }
 },
 "nbformat": 4,
 "nbformat_minor": 4
}
