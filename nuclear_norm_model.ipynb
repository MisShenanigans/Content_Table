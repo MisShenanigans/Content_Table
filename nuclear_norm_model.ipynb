{
 "cells": [
  {
   "cell_type": "code",
   "execution_count": 14,
   "metadata": {},
   "outputs": [],
   "source": [
    "import contextlib\n",
    "import io\n",
    "\n",
    "f = io.StringIO()\n",
    "with contextlib.redirect_stdout(f):\n",
    "    import pandas as pd\n",
    "    import numpy as np\n",
    "    import matplotlib.pyplot as plt\n",
    "    import concurrent.futures\n",
    "    import cvxpy as cp\n",
    "\n",
    "    import warnings\n",
    "    warnings.filterwarnings(\"ignore\", category=UserWarning)"
   ]
  },
  {
   "cell_type": "code",
   "execution_count": 15,
   "metadata": {},
   "outputs": [
    {
     "name": "stdout",
     "output_type": "stream",
     "text": [
      "(144, 131)\n"
     ]
    }
   ],
   "source": [
    "df = pd.read_csv(\"data/100x100.csv\")\n",
    "data_df = df.pivot(index='u_id', columns='a_id', values='score').fillna(0)\n",
    "data_matrix = data_df.values\n",
    "print(data_df.shape)"
   ]
  },
  {
   "cell_type": "code",
   "execution_count": 16,
   "metadata": {},
   "outputs": [],
   "source": [
    "#This takes in dataframe input\n",
    "def nuclear_norm_model_df(df):\n",
    "    user_list = sorted(df['u_id'].unique())\n",
    "    anime_list = sorted(df['a_id'].unique())\n",
    "\n",
    "    num_users = len(user_list)\n",
    "    num_anime = len(anime_list)\n",
    "\n",
    "    user_id_to_index = {u_id: idx for idx, u_id in enumerate(user_list)}\n",
    "    anime_id_to_index = {a_id: idx for idx, a_id in enumerate(anime_list)}\n",
    "\n",
    "    R = cp.Variable((num_users, num_anime))\n",
    "\n",
    "    delta = df[['u_id', 'a_id', 'score']]\n",
    "    constraints = []\n",
    "\n",
    "    for idx in range(len(delta)):\n",
    "        u = user_id_to_index[int(delta.at[idx, 'u_id'])]\n",
    "        i = anime_id_to_index[int(delta.at[idx, 'a_id'])]\n",
    "        score = delta.at[idx, 'score']\n",
    "        constraints.append(R[u, i] == score)\n",
    "\n",
    "    obj = cp.Minimize(cp.normNuc(R))\n",
    "\n",
    "    prob = cp.Problem(obj, constraints)\n",
    "    prob.solve(solver=cp.SCS)\n",
    "\n",
    "    if prob.status == cp.OPTIMAL:\n",
    "        print(\"Optimization succeeded.\")\n",
    "        return R.value\n",
    "    else:\n",
    "        print(f\"Optimization failed with status: {prob.status}\")\n",
    "        return None\n",
    "\n",
    "#This takes in matrix input\n",
    "def nuclear_norm_model_matrix(data_matrix):\n",
    "    num_users, num_anime = data_matrix.shape\n",
    "\n",
    "    R = cp.Variable((num_users, num_anime))\n",
    "\n",
    "    constraints = []\n",
    "    for i in range(num_users):\n",
    "        for j in range(num_anime):\n",
    "            if data_matrix[i, j] != 0:\n",
    "                constraints.append(R[i, j] == data_matrix[i, j])\n",
    "\n",
    "    objective = cp.Minimize(cp.normNuc(R))\n",
    "    problem = cp.Problem(objective, constraints)\n",
    "    problem.solve(solver=cp.SCS)\n",
    "\n",
    "    if problem.status == cp.OPTIMAL:\n",
    "        print(\"Optimization succeeded.\")\n",
    "        return R.value\n",
    "    else:\n",
    "        print(f\"Optimization failed. Status: {problem.status}\")\n",
    "        return None\n"
   ]
  },
  {
   "cell_type": "code",
   "execution_count": 17,
   "metadata": {},
   "outputs": [
    {
     "name": "stdout",
     "output_type": "stream",
     "text": [
      "Optimization succeeded.\n"
     ]
    }
   ],
   "source": [
    "completed_matrix = nuclear_norm_model_df(df)"
   ]
  },
  {
   "cell_type": "code",
   "execution_count": 18,
   "metadata": {},
   "outputs": [
    {
     "name": "stdout",
     "output_type": "stream",
     "text": [
      "Optimization succeeded.\n"
     ]
    },
    {
     "data": {
      "text/plain": [
       "array([[9.33062197, 7.78111385, 8.00000001, ..., 9.3124474 , 7.22256218,\n",
       "        7.25704598],\n",
       "       [8.3255952 , 6.79427541, 7.41250897, ..., 6.80217792, 6.12976039,\n",
       "        7.00722474],\n",
       "       [9.08114318, 8.67308476, 9.84972913, ..., 7.92731419, 7.83234011,\n",
       "        8.86697239],\n",
       "       ...,\n",
       "       [8.64576755, 6.        , 8.17817278, ..., 6.99999999, 8.02591882,\n",
       "        7.11699098],\n",
       "       [6.35939123, 5.86884223, 7.51340344, ..., 5.39243337, 8.39126469,\n",
       "        8.06472485],\n",
       "       [6.75863935, 7.40919727, 7.8145405 , ..., 8.        , 8.00000001,\n",
       "        6.99999999]])"
      ]
     },
     "execution_count": 18,
     "metadata": {},
     "output_type": "execute_result"
    }
   ],
   "source": [
    "completed_matrix = nuclear_norm_model_matrix(data_matrix)\n",
    "completed_matrix"
   ]
  },
  {
   "cell_type": "code",
   "execution_count": 19,
   "metadata": {},
   "outputs": [
    {
     "data": {
      "text/plain": [
       "[(11.600763258244847, (117, 23)),\n",
       " (11.236385309011409, (117, 55)),\n",
       " (11.215948079452929, (117, 21)),\n",
       " (11.181682146068688, (132, 18)),\n",
       " (11.181492271974369, (108, 0))]"
      ]
     },
     "execution_count": 19,
     "metadata": {},
     "output_type": "execute_result"
    }
   ],
   "source": [
    "def top_k_largest(matrix, k=5):\n",
    "    flat_indices = np.argpartition(matrix.ravel(), -k)[-k:]\n",
    "    sorted_indices = flat_indices[np.argsort(matrix.ravel()[flat_indices])[::-1]]\n",
    "    top_values = [(matrix.flat[idx], np.unravel_index(idx, matrix.shape)) for idx in sorted_indices]\n",
    "    return top_values\n",
    "\n",
    "\n",
    "top_k_largest(completed_matrix)"
   ]
  }
 ],
 "metadata": {
  "kernelspec": {
   "display_name": "Python 3",
   "language": "python",
   "name": "python3"
  },
  "language_info": {
   "codemirror_mode": {
    "name": "ipython",
    "version": 3
   },
   "file_extension": ".py",
   "mimetype": "text/x-python",
   "name": "python",
   "nbconvert_exporter": "python",
   "pygments_lexer": "ipython3",
   "version": "3.12.1"
  }
 },
 "nbformat": 4,
 "nbformat_minor": 4
}
