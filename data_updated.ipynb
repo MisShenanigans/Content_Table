{
 "cells": [
  {
   "cell_type": "code",
   "execution_count": null,
   "metadata": {},
   "outputs": [],
   "source": [
    "# Uncomment to download\n",
    "\n",
    "# import kagglehub\n",
    "# path = kagglehub.dataset_download(\"marlesson/myanimelist-dataset-animes-profiles-reviews\")\n",
    "# print(\"Path to dataset files:\", path)"
   ]
  },
  {
   "cell_type": "code",
   "execution_count": 1,
   "metadata": {},
   "outputs": [],
   "source": [
    "import pandas as pd\n",
    "import numpy as np\n",
    "import matplotlib.pyplot as plt"
   ]
  },
  {
   "cell_type": "code",
   "execution_count": null,
   "metadata": {},
   "outputs": [],
   "source": [
    "\n",
    "animes_df = pd.read_csv(\"original_data/animes.csv\")\n",
    "profiles_df = pd.read_csv(\"original_data/profiles.csv\")\n",
    "reviews_df = pd.read_csv(\"original_data/reviews.csv\")"
   ]
  },
  {
   "cell_type": "code",
   "execution_count": null,
   "metadata": {},
   "outputs": [],
   "source": [
    "# keep uid and title columns, change uid to a_id\n",
    "cleared_anime_df = animes_df[[\"uid\", \"title\"]]\n",
    "cleared_anime_df.rename(columns={\"uid\": \"a_id\"}, inplace=True)\n",
    "\n",
    "# keep profile column, make a new column named u_id, make profile unique, keep u_id as index\n",
    "cleared_profile_df = profiles_df[[\"profile\"]]\n",
    "cleared_profile_df = cleared_profile_df.drop_duplicates(subset='profile')\n",
    "cleared_profile_df['u_id'] = range(0, len(cleared_profile_df))\n",
    "\n",
    "\n",
    "# keep profile anime_uid and score columns, change anime_uid to a_id\n",
    "cleared_reviews_df = reviews_df[[\"profile\", \"anime_uid\", \"score\"]]\n",
    "cleared_reviews_df.rename(columns={\"anime_uid\": \"a_id\"}, inplace=True)"
   ]
  },
  {
   "cell_type": "code",
   "execution_count": null,
   "metadata": {},
   "outputs": [],
   "source": [
    "# merge cleared_reviews_df with cleared_profile_df using profile column\n",
    "merged_review_profile_df = cleared_reviews_df.merge(cleared_profile_df, on=\"profile\")    \n",
    "\n",
    "# merge cleared_anime_df with merged_review_profile_df using a_id column\n",
    "merged_review_profile_anime_df = merged_review_profile_df.merge(cleared_anime_df, on=\"a_id\")\n",
    "\n",
    "# at some point, we create duplicates. Removes duplicates\n",
    "merged_review_profile_anime_df = merged_review_profile_anime_df.drop_duplicates()"
   ]
  },
  {
   "cell_type": "code",
   "execution_count": null,
   "metadata": {},
   "outputs": [],
   "source": [
    "# reorder columns\n",
    "final_df = merged_review_profile_anime_df[[\"u_id\", \"a_id\", \"profile\", \"title\", \"score\"]]\n",
    "\n",
    "# create id, and set it as index\n",
    "final_df[\"id\"] = range(0, len(final_df))\n",
    "final_df.set_index(\"id\", inplace=True)\n",
    "\n",
    "# remove index name\n",
    "final_df.index.name = None\n",
    "\n",
    "# save the final data\n",
    "final_df.to_csv(\"data/final_data.csv\")"
   ]
  },
  {
   "cell_type": "code",
   "execution_count": null,
   "metadata": {},
   "outputs": [],
   "source": [
    "def reduceMatrixSize(df, u_review_count, a_review_count):\n",
    "    \n",
    "    # only keep the users with at least u_review_count reviews\n",
    "    df = df[df.groupby('u_id')['u_id'].transform('count') >= u_review_count]\n",
    "\n",
    "    # only keep the animes with at least a_review_count reviews\n",
    "    df = df[df.groupby('a_id')['a_id'].transform('count') >= a_review_count]\n",
    "    print(f\"Reduced matrix size to {df[\"u_id\"].nunique()} users and {df[\"a_id\"].nunique()} animes\")\n",
    "    return df"
   ]
  },
  {
   "cell_type": "code",
   "execution_count": null,
   "metadata": {},
   "outputs": [],
   "source": [
    "final_df = pd.read_csv(\"data/old_final_data.csv\")"
   ]
  },
  {
   "cell_type": "code",
   "execution_count": null,
   "metadata": {},
   "outputs": [],
   "source": [
    "\n",
    "reduced_df.to_csv(\"data/10x10.csv\")"
   ]
  },
  {
   "cell_type": "code",
   "execution_count": null,
   "metadata": {},
   "outputs": [],
   "source": []
  }
 ],
 "metadata": {
  "kernelspec": {
   "display_name": "Python 3",
   "language": "python",
   "name": "python3"
  },
  "language_info": {
   "codemirror_mode": {
    "name": "ipython",
    "version": 3
   },
   "file_extension": ".py",
   "mimetype": "text/x-python",
   "name": "python",
   "nbconvert_exporter": "python",
   "pygments_lexer": "ipython3",
   "version": "3.13.0"
  }
 },
 "nbformat": 4,
 "nbformat_minor": 2
}
